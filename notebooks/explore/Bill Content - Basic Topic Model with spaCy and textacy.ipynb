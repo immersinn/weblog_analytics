{
 "cells": [
  {
   "cell_type": "code",
   "execution_count": 1,
   "metadata": {
    "collapsed": true
   },
   "outputs": [],
   "source": [
    "import pickle"
   ]
  },
  {
   "cell_type": "code",
   "execution_count": 165,
   "metadata": {
    "collapsed": true
   },
   "outputs": [],
   "source": [
    "import numpy\n",
    "import scipy\n",
    "import pandas\n",
    "import spacy\n",
    "import textacy"
   ]
  },
  {
   "cell_type": "code",
   "execution_count": 171,
   "metadata": {
    "collapsed": true
   },
   "outputs": [],
   "source": [
    "k = numpy.int()"
   ]
  },
  {
   "cell_type": "code",
   "execution_count": 3,
   "metadata": {
    "collapsed": true
   },
   "outputs": [],
   "source": [
    "%matplotlib inline\n",
    "\n",
    "import matplotlib as mpl\n",
    "import matplotlib.pyplot as plt\n",
    "\n",
    "import seaborn as sns\n",
    "sns.set(style=\"whitegrid\", color_codes=True)"
   ]
  },
  {
   "cell_type": "code",
   "execution_count": 177,
   "metadata": {
    "collapsed": true
   },
   "outputs": [],
   "source": [
    "with open('/home/immersinn/Dropbox/Analytics/NCGA/data/bill_texts_filed_content.pkl', 'rb') as f1:\n",
    "    btfc = pickle.load(f1)"
   ]
  },
  {
   "cell_type": "code",
   "execution_count": 178,
   "metadata": {
    "collapsed": false
   },
   "outputs": [],
   "source": [
    "btfc = btfc.set_index([\"session\", \"house\", \"bill\"])"
   ]
  },
  {
   "cell_type": "code",
   "execution_count": 179,
   "metadata": {
    "collapsed": false
   },
   "outputs": [
    {
     "data": {
      "text/html": [
       "<div>\n",
       "<table border=\"1\" class=\"dataframe\">\n",
       "  <thead>\n",
       "    <tr style=\"text-align: right;\">\n",
       "      <th></th>\n",
       "      <th></th>\n",
       "      <th></th>\n",
       "      <th>content</th>\n",
       "      <th>long_title</th>\n",
       "      <th>table_info</th>\n",
       "    </tr>\n",
       "    <tr>\n",
       "      <th>session</th>\n",
       "      <th>house</th>\n",
       "      <th>bill</th>\n",
       "      <th></th>\n",
       "      <th></th>\n",
       "      <th></th>\n",
       "    </tr>\n",
       "  </thead>\n",
       "  <tbody>\n",
       "    <tr>\n",
       "      <th rowspan=\"5\" valign=\"top\">2015E4</th>\n",
       "      <th rowspan=\"5\" valign=\"top\">H</th>\n",
       "      <th>1</th>\n",
       "      <td>GENERAL ASSEMBLY OF NORTH CAROLINA  FOURTH EXT...</td>\n",
       "      <td>A HOUSE RESOLUTION adopting the permanent rule...</td>\n",
       "      <td>{'Referred to': '', 'Sponsors': 'Representativ...</td>\n",
       "    </tr>\n",
       "    <tr>\n",
       "      <th>2</th>\n",
       "      <td>GENERAL ASSEMBLY OF NORTH CAROLINA  FOURTH EXT...</td>\n",
       "      <td>A JOINT RESOLUTIOn providing for adjournment s...</td>\n",
       "      <td>{'Referred to': '', 'Sponsors': 'Representativ...</td>\n",
       "    </tr>\n",
       "    <tr>\n",
       "      <th>3</th>\n",
       "      <td>GENERAL ASSEMBLY OF NORTH CAROLINA  FOURTH EXT...</td>\n",
       "      <td>AN ACT to provide further REGULATORY RELIEF TO...</td>\n",
       "      <td>{'Short   Title': 'Regulatory Reform Act of 20...</td>\n",
       "    </tr>\n",
       "    <tr>\n",
       "      <th>4</th>\n",
       "      <td>GENERAL ASSEMBLY OF NORTH CAROLINA  FOURTH EXT...</td>\n",
       "      <td>AN ACT directing the department of transportat...</td>\n",
       "      <td>{'Short   Title': 'Terminate Agreement for Tol...</td>\n",
       "    </tr>\n",
       "    <tr>\n",
       "      <th>5</th>\n",
       "      <td>GENERAL ASSEMBLY OF NORTH CAROLINA  FOURTH EXT...</td>\n",
       "      <td>AN ACT to clarify the service area for communi...</td>\n",
       "      <td>{'Short   Title': 'Municipal Broadband Service...</td>\n",
       "    </tr>\n",
       "  </tbody>\n",
       "</table>\n",
       "</div>"
      ],
      "text/plain": [
       "                                                              content  \\\n",
       "session house bill                                                      \n",
       "2015E4  H     1     GENERAL ASSEMBLY OF NORTH CAROLINA  FOURTH EXT...   \n",
       "              2     GENERAL ASSEMBLY OF NORTH CAROLINA  FOURTH EXT...   \n",
       "              3     GENERAL ASSEMBLY OF NORTH CAROLINA  FOURTH EXT...   \n",
       "              4     GENERAL ASSEMBLY OF NORTH CAROLINA  FOURTH EXT...   \n",
       "              5     GENERAL ASSEMBLY OF NORTH CAROLINA  FOURTH EXT...   \n",
       "\n",
       "                                                           long_title  \\\n",
       "session house bill                                                      \n",
       "2015E4  H     1     A HOUSE RESOLUTION adopting the permanent rule...   \n",
       "              2     A JOINT RESOLUTIOn providing for adjournment s...   \n",
       "              3     AN ACT to provide further REGULATORY RELIEF TO...   \n",
       "              4     AN ACT directing the department of transportat...   \n",
       "              5     AN ACT to clarify the service area for communi...   \n",
       "\n",
       "                                                           table_info  \n",
       "session house bill                                                     \n",
       "2015E4  H     1     {'Referred to': '', 'Sponsors': 'Representativ...  \n",
       "              2     {'Referred to': '', 'Sponsors': 'Representativ...  \n",
       "              3     {'Short   Title': 'Regulatory Reform Act of 20...  \n",
       "              4     {'Short   Title': 'Terminate Agreement for Tol...  \n",
       "              5     {'Short   Title': 'Municipal Broadband Service...  "
      ]
     },
     "execution_count": 179,
     "metadata": {},
     "output_type": "execute_result"
    }
   ],
   "source": [
    "btfc.head()"
   ]
  },
  {
   "cell_type": "code",
   "execution_count": 180,
   "metadata": {
    "collapsed": true
   },
   "outputs": [],
   "source": [
    "with open('/home/immersinn/Dropbox/Analytics/NCGA/data/bill_page_keywords.pkl', 'rb') as f1:\n",
    "    keywords = pickle.load(f1)"
   ]
  },
  {
   "cell_type": "code",
   "execution_count": 181,
   "metadata": {
    "collapsed": true
   },
   "outputs": [],
   "source": [
    "keywords = keywords.set_index([\"session\", \"house\", \"bill\"])"
   ]
  },
  {
   "cell_type": "code",
   "execution_count": 182,
   "metadata": {
    "collapsed": false
   },
   "outputs": [
    {
     "data": {
      "text/html": [
       "<div>\n",
       "<table border=\"1\" class=\"dataframe\">\n",
       "  <thead>\n",
       "    <tr style=\"text-align: right;\">\n",
       "      <th></th>\n",
       "      <th></th>\n",
       "      <th></th>\n",
       "      <th>keywords</th>\n",
       "    </tr>\n",
       "    <tr>\n",
       "      <th>session</th>\n",
       "      <th>house</th>\n",
       "      <th>bill</th>\n",
       "      <th></th>\n",
       "    </tr>\n",
       "  </thead>\n",
       "  <tbody>\n",
       "    <tr>\n",
       "      <th rowspan=\"5\" valign=\"top\">2015E4</th>\n",
       "      <th rowspan=\"5\" valign=\"top\">H</th>\n",
       "      <th>1</th>\n",
       "      <td>[ADOPTED, GENERAL ASSEMBLY, RESOLUTIONS, SIMPL...</td>\n",
       "    </tr>\n",
       "    <tr>\n",
       "      <th>2</th>\n",
       "      <td>[ADJOURNMENT, GENERAL ASSEMBLY, RESOLUTIONS, J...</td>\n",
       "    </tr>\n",
       "    <tr>\n",
       "      <th>3</th>\n",
       "      <td>[ADMINISTRATION DEPT., ADMINISTRATIVE CODE, AD...</td>\n",
       "    </tr>\n",
       "    <tr>\n",
       "      <th>4</th>\n",
       "      <td>[BRIDGES, CONTRACTS, COUNTIES, INFRASTRUCTURE,...</td>\n",
       "    </tr>\n",
       "    <tr>\n",
       "      <th>5</th>\n",
       "      <td>[COUNTIES, EDGECOMBE COUNTY, INFORMATION TECHN...</td>\n",
       "    </tr>\n",
       "  </tbody>\n",
       "</table>\n",
       "</div>"
      ],
      "text/plain": [
       "                                                             keywords\n",
       "session house bill                                                   \n",
       "2015E4  H     1     [ADOPTED, GENERAL ASSEMBLY, RESOLUTIONS, SIMPL...\n",
       "              2     [ADJOURNMENT, GENERAL ASSEMBLY, RESOLUTIONS, J...\n",
       "              3     [ADMINISTRATION DEPT., ADMINISTRATIVE CODE, AD...\n",
       "              4     [BRIDGES, CONTRACTS, COUNTIES, INFRASTRUCTURE,...\n",
       "              5     [COUNTIES, EDGECOMBE COUNTY, INFORMATION TECHN..."
      ]
     },
     "execution_count": 182,
     "metadata": {},
     "output_type": "execute_result"
    }
   ],
   "source": [
    "keywords.head()"
   ]
  },
  {
   "cell_type": "code",
   "execution_count": 183,
   "metadata": {
    "collapsed": false
   },
   "outputs": [],
   "source": [
    "btfc = btfc.join(keywords, how=\"left\")"
   ]
  },
  {
   "cell_type": "code",
   "execution_count": 184,
   "metadata": {
    "collapsed": false
   },
   "outputs": [],
   "source": [
    "btfc = pandas.DataFrame(btfc.to_records())"
   ]
  },
  {
   "cell_type": "code",
   "execution_count": 185,
   "metadata": {
    "collapsed": false
   },
   "outputs": [
    {
     "data": {
      "text/html": [
       "<div>\n",
       "<table border=\"1\" class=\"dataframe\">\n",
       "  <thead>\n",
       "    <tr style=\"text-align: right;\">\n",
       "      <th></th>\n",
       "      <th>session</th>\n",
       "      <th>house</th>\n",
       "      <th>bill</th>\n",
       "      <th>content</th>\n",
       "      <th>long_title</th>\n",
       "      <th>table_info</th>\n",
       "      <th>keywords</th>\n",
       "    </tr>\n",
       "  </thead>\n",
       "  <tbody>\n",
       "    <tr>\n",
       "      <th>0</th>\n",
       "      <td>2015E4</td>\n",
       "      <td>H</td>\n",
       "      <td>1</td>\n",
       "      <td>GENERAL ASSEMBLY OF NORTH CAROLINA  FOURTH EXT...</td>\n",
       "      <td>A HOUSE RESOLUTION adopting the permanent rule...</td>\n",
       "      <td>{'Referred to': '', 'Sponsors': 'Representativ...</td>\n",
       "      <td>[ADOPTED, GENERAL ASSEMBLY, RESOLUTIONS, SIMPL...</td>\n",
       "    </tr>\n",
       "    <tr>\n",
       "      <th>1</th>\n",
       "      <td>2015E4</td>\n",
       "      <td>H</td>\n",
       "      <td>2</td>\n",
       "      <td>GENERAL ASSEMBLY OF NORTH CAROLINA  FOURTH EXT...</td>\n",
       "      <td>A JOINT RESOLUTIOn providing for adjournment s...</td>\n",
       "      <td>{'Referred to': '', 'Sponsors': 'Representativ...</td>\n",
       "      <td>[ADJOURNMENT, GENERAL ASSEMBLY, RESOLUTIONS, J...</td>\n",
       "    </tr>\n",
       "    <tr>\n",
       "      <th>2</th>\n",
       "      <td>2015E4</td>\n",
       "      <td>H</td>\n",
       "      <td>3</td>\n",
       "      <td>GENERAL ASSEMBLY OF NORTH CAROLINA  FOURTH EXT...</td>\n",
       "      <td>AN ACT to provide further REGULATORY RELIEF TO...</td>\n",
       "      <td>{'Short   Title': 'Regulatory Reform Act of 20...</td>\n",
       "      <td>[ADMINISTRATION DEPT., ADMINISTRATIVE CODE, AD...</td>\n",
       "    </tr>\n",
       "    <tr>\n",
       "      <th>3</th>\n",
       "      <td>2015E4</td>\n",
       "      <td>H</td>\n",
       "      <td>4</td>\n",
       "      <td>GENERAL ASSEMBLY OF NORTH CAROLINA  FOURTH EXT...</td>\n",
       "      <td>AN ACT directing the department of transportat...</td>\n",
       "      <td>{'Short   Title': 'Terminate Agreement for Tol...</td>\n",
       "      <td>[BRIDGES, CONTRACTS, COUNTIES, INFRASTRUCTURE,...</td>\n",
       "    </tr>\n",
       "    <tr>\n",
       "      <th>4</th>\n",
       "      <td>2015E4</td>\n",
       "      <td>H</td>\n",
       "      <td>5</td>\n",
       "      <td>GENERAL ASSEMBLY OF NORTH CAROLINA  FOURTH EXT...</td>\n",
       "      <td>AN ACT to clarify the service area for communi...</td>\n",
       "      <td>{'Short   Title': 'Municipal Broadband Service...</td>\n",
       "      <td>[COUNTIES, EDGECOMBE COUNTY, INFORMATION TECHN...</td>\n",
       "    </tr>\n",
       "  </tbody>\n",
       "</table>\n",
       "</div>"
      ],
      "text/plain": [
       "  session house  bill                                            content  \\\n",
       "0  2015E4     H     1  GENERAL ASSEMBLY OF NORTH CAROLINA  FOURTH EXT...   \n",
       "1  2015E4     H     2  GENERAL ASSEMBLY OF NORTH CAROLINA  FOURTH EXT...   \n",
       "2  2015E4     H     3  GENERAL ASSEMBLY OF NORTH CAROLINA  FOURTH EXT...   \n",
       "3  2015E4     H     4  GENERAL ASSEMBLY OF NORTH CAROLINA  FOURTH EXT...   \n",
       "4  2015E4     H     5  GENERAL ASSEMBLY OF NORTH CAROLINA  FOURTH EXT...   \n",
       "\n",
       "                                          long_title  \\\n",
       "0  A HOUSE RESOLUTION adopting the permanent rule...   \n",
       "1  A JOINT RESOLUTIOn providing for adjournment s...   \n",
       "2  AN ACT to provide further REGULATORY RELIEF TO...   \n",
       "3  AN ACT directing the department of transportat...   \n",
       "4  AN ACT to clarify the service area for communi...   \n",
       "\n",
       "                                          table_info  \\\n",
       "0  {'Referred to': '', 'Sponsors': 'Representativ...   \n",
       "1  {'Referred to': '', 'Sponsors': 'Representativ...   \n",
       "2  {'Short   Title': 'Regulatory Reform Act of 20...   \n",
       "3  {'Short   Title': 'Terminate Agreement for Tol...   \n",
       "4  {'Short   Title': 'Municipal Broadband Service...   \n",
       "\n",
       "                                            keywords  \n",
       "0  [ADOPTED, GENERAL ASSEMBLY, RESOLUTIONS, SIMPL...  \n",
       "1  [ADJOURNMENT, GENERAL ASSEMBLY, RESOLUTIONS, J...  \n",
       "2  [ADMINISTRATION DEPT., ADMINISTRATIVE CODE, AD...  \n",
       "3  [BRIDGES, CONTRACTS, COUNTIES, INFRASTRUCTURE,...  \n",
       "4  [COUNTIES, EDGECOMBE COUNTY, INFORMATION TECHN...  "
      ]
     },
     "execution_count": 185,
     "metadata": {},
     "output_type": "execute_result"
    }
   ],
   "source": [
    "btfc.head()"
   ]
  },
  {
   "cell_type": "code",
   "execution_count": 189,
   "metadata": {
    "collapsed": false
   },
   "outputs": [
    {
     "data": {
      "text/plain": [
       "['bill']"
      ]
     },
     "execution_count": 189,
     "metadata": {},
     "output_type": "execute_result"
    }
   ],
   "source": [
    "btfc._get_numeric_data().columns.tolist()"
   ]
  },
  {
   "cell_type": "code",
   "execution_count": 135,
   "metadata": {
    "collapsed": false
   },
   "outputs": [],
   "source": [
    "btfc['bill'] = btfc.apply(lambda x: str(x['bill']), axis=1)"
   ]
  },
  {
   "cell_type": "code",
   "execution_count": 152,
   "metadata": {
    "collapsed": true
   },
   "outputs": [],
   "source": [
    "btfc_mini = btfc.sample(400)"
   ]
  },
  {
   "cell_type": "code",
   "execution_count": 155,
   "metadata": {
    "collapsed": true
   },
   "outputs": [],
   "source": [
    "btfc_mini.index = range(btfc_mini.shape[0])"
   ]
  },
  {
   "cell_type": "markdown",
   "metadata": {},
   "source": [
    "## Textual Analysis"
   ]
  },
  {
   "cell_type": "markdown",
   "metadata": {},
   "source": [
    "### Preproc and Build Corpus"
   ]
  },
  {
   "cell_type": "code",
   "execution_count": 20,
   "metadata": {
    "collapsed": true
   },
   "outputs": [],
   "source": [
    "textacy_preprocessor = lambda text: textacy.preprocess.preprocess_text(text,\n",
    "                                                                       no_contractions=True,\n",
    "                                                                       no_numbers=True,\n",
    "                                                                       no_emails=True,\n",
    "                                                                       no_currency_symbols=True,\n",
    "                                                                       lowercase=True)"
   ]
  },
  {
   "cell_type": "code",
   "execution_count": 21,
   "metadata": {
    "collapsed": true
   },
   "outputs": [],
   "source": [
    "nlp = spacy.load(\"en\", add_vectors=False)"
   ]
  },
  {
   "cell_type": "code",
   "execution_count": 22,
   "metadata": {
    "collapsed": false
   },
   "outputs": [],
   "source": [
    "nlp.pipeline = [nlp.tagger, nlp.parser]"
   ]
  },
  {
   "cell_type": "code",
   "execution_count": 153,
   "metadata": {
    "collapsed": true
   },
   "outputs": [],
   "source": [
    "# \"texts\"\n",
    "texts = [textacy_preprocessor(con) for con in list(btfc_mini.content)]"
   ]
  },
  {
   "cell_type": "code",
   "execution_count": 156,
   "metadata": {
    "collapsed": false
   },
   "outputs": [],
   "source": [
    "metas = [btfc_mini.ix[btfc.index[i]][[\"session\", \"house\", \"bill\", \"keywords\"]].to_dict() for i in range(btfc_mini.shape[0])]"
   ]
  },
  {
   "cell_type": "code",
   "execution_count": 157,
   "metadata": {
    "collapsed": false
   },
   "outputs": [
    {
     "data": {
      "text/plain": [
       "{'bill': '660',\n",
       " 'house': 'H',\n",
       " 'keywords': ['BOARDS',\n",
       "  'COMMISSIONS',\n",
       "  'CONTRACTS',\n",
       "  'EDUCATION',\n",
       "  'EDUCATION ADMINISTRATION',\n",
       "  'EDUCATION',\n",
       "  'STATE BOARD OF',\n",
       "  'ELECTRONIC & OTHER MEDIA',\n",
       "  'ELEMENTARY EDUCATION',\n",
       "  'EMERGING TECHNOLOGIES',\n",
       "  'GOVERNMENT EMPLOYEES',\n",
       "  'OCCUPATIONS',\n",
       "  'PUBLIC',\n",
       "  'REPORTING',\n",
       "  'SCIENCE & TECHNOLOGY',\n",
       "  'SECONDARY EDUCATION',\n",
       "  'STATE EMPLOYEES',\n",
       "  'TEACHERS',\n",
       "  'TEXTBOOK COMN.',\n",
       "  'TEXTBOOKS'],\n",
       " 'session': '2015'}"
      ]
     },
     "execution_count": 157,
     "metadata": {},
     "output_type": "execute_result"
    }
   ],
   "source": [
    "metas[0]"
   ]
  },
  {
   "cell_type": "code",
   "execution_count": 158,
   "metadata": {
    "collapsed": true
   },
   "outputs": [],
   "source": [
    "corp = textacy.Corpus(lang=nlp)"
   ]
  },
  {
   "cell_type": "code",
   "execution_count": 159,
   "metadata": {
    "collapsed": true
   },
   "outputs": [],
   "source": [
    "corp.add_texts(texts=texts, metadatas=metas,\n",
    "               n_threads=8, batch_size=50)"
   ]
  },
  {
   "cell_type": "code",
   "execution_count": 160,
   "metadata": {
    "collapsed": false
   },
   "outputs": [
    {
     "data": {
      "text/plain": [
       "400"
      ]
     },
     "execution_count": 160,
     "metadata": {},
     "output_type": "execute_result"
    }
   ],
   "source": [
    "corp.n_docs"
   ]
  },
  {
   "cell_type": "code",
   "execution_count": 161,
   "metadata": {
    "collapsed": false
   },
   "outputs": [
    {
     "data": {
      "text/plain": [
       "22988"
      ]
     },
     "execution_count": 161,
     "metadata": {},
     "output_type": "execute_result"
    }
   ],
   "source": [
    "corp.n_sents"
   ]
  },
  {
   "cell_type": "code",
   "execution_count": 162,
   "metadata": {
    "collapsed": false
   },
   "outputs": [
    {
     "data": {
      "text/plain": [
       "{'bill': '660',\n",
       " 'house': 'H',\n",
       " 'keywords': ['BOARDS',\n",
       "  'COMMISSIONS',\n",
       "  'CONTRACTS',\n",
       "  'EDUCATION',\n",
       "  'EDUCATION ADMINISTRATION',\n",
       "  'EDUCATION',\n",
       "  'STATE BOARD OF',\n",
       "  'ELECTRONIC & OTHER MEDIA',\n",
       "  'ELEMENTARY EDUCATION',\n",
       "  'EMERGING TECHNOLOGIES',\n",
       "  'GOVERNMENT EMPLOYEES',\n",
       "  'OCCUPATIONS',\n",
       "  'PUBLIC',\n",
       "  'REPORTING',\n",
       "  'SCIENCE & TECHNOLOGY',\n",
       "  'SECONDARY EDUCATION',\n",
       "  'STATE EMPLOYEES',\n",
       "  'TEACHERS',\n",
       "  'TEXTBOOK COMN.',\n",
       "  'TEXTBOOKS'],\n",
       " 'session': '2015'}"
      ]
     },
     "execution_count": 162,
     "metadata": {},
     "output_type": "execute_result"
    }
   ],
   "source": [
    "corp[0].metadata"
   ]
  },
  {
   "cell_type": "code",
   "execution_count": 163,
   "metadata": {
    "collapsed": false
   },
   "outputs": [],
   "source": [
    "corp.save(path='/home/immersinn/gits/ncga/data/processed/', name='CORPUS_bills_filed_pipe01', compression='gzip')"
   ]
  },
  {
   "cell_type": "code",
   "execution_count": 164,
   "metadata": {
    "collapsed": true
   },
   "outputs": [],
   "source": [
    "corp = textacy.Corpus.load(path='/home/immersinn/gits/ncga/data/processed/',\n",
    "                           name='CORPUS_bills_filed_pipe01',\n",
    "                           compression='gzip')"
   ]
  },
  {
   "cell_type": "markdown",
   "metadata": {},
   "source": [
    "### Topic Model"
   ]
  },
  {
   "cell_type": "code",
   "execution_count": 72,
   "metadata": {
    "collapsed": true
   },
   "outputs": [],
   "source": [
    "n_topics = 15"
   ]
  },
  {
   "cell_type": "markdown",
   "metadata": {},
   "source": [
    "#### Tokenize and Vectorize the corpus:"
   ]
  },
  {
   "cell_type": "code",
   "execution_count": 46,
   "metadata": {
    "collapsed": false
   },
   "outputs": [
    {
     "data": {
      "text/plain": [
       "<2098x9955 sparse matrix of type '<class 'numpy.float64'>'\n",
       "\twith 378044 stored elements in Compressed Sparse Row format>"
      ]
     },
     "execution_count": 46,
     "metadata": {},
     "output_type": "execute_result"
    }
   ],
   "source": [
    "terms_lists = (doc.to_terms_list(ngrams=1, named_entities=True, as_strings=True) for doc in corp)\n",
    "doc_term_matrix, id2term = textacy.vsm.doc_term_matrix(\\\n",
    "                                                       terms_lists, \n",
    "                                                       weighting='tfidf', normalize=True, smooth_idf=True,\n",
    "                                                       min_df=3, max_df=0.95, max_n_terms=100000)\n",
    "doc_term_matrix"
   ]
  },
  {
   "cell_type": "markdown",
   "metadata": {},
   "source": [
    "#### Init and Train a Topic Model:"
   ]
  },
  {
   "cell_type": "code",
   "execution_count": 73,
   "metadata": {
    "collapsed": false
   },
   "outputs": [
    {
     "data": {
      "text/plain": [
       "TopicModel(n_topics=15, model=NMF)"
      ]
     },
     "execution_count": 73,
     "metadata": {},
     "output_type": "execute_result"
    }
   ],
   "source": [
    "model = textacy.tm.TopicModel('nmf', n_topics=n_topics)\n",
    "model.fit(doc_term_matrix)\n",
    "model"
   ]
  },
  {
   "cell_type": "markdown",
   "metadata": {},
   "source": [
    "#### Transform the corpus and Interpret the Model:"
   ]
  },
  {
   "cell_type": "code",
   "execution_count": 77,
   "metadata": {
    "collapsed": true
   },
   "outputs": [],
   "source": [
    "doc_topic_matrix = model.transform(doc_term_matrix)"
   ]
  },
  {
   "cell_type": "code",
   "execution_count": 74,
   "metadata": {
    "collapsed": false
   },
   "outputs": [
    {
     "name": "stdout",
     "output_type": "stream",
     "text": [
      "topic 0 : shall   state   commission   department   agency   information   contract   include   require   article\n",
      "topic 1 : school   close   opening   calendar   date   closing   board   local   monday   august\n",
      "topic 2 : senatorial   district   act-*number*.   relate   local   senator   senate   law   primary   short\n",
      "topic 3 : tax   taxable   taxpayer   income   credit   sale   year   levy   property   business\n",
      "topic 4 : fund   fiscal   appropriation   usd*number   year   dollar   appropriate   thousand   budget   highway\n"
     ]
    }
   ],
   "source": [
    "for topic_idx, top_terms in model.top_topic_terms(id2term, topics=range(5)):\n",
    "    print('topic', topic_idx, ':', '   '.join(top_terms))"
   ]
  },
  {
   "cell_type": "code",
   "execution_count": 84,
   "metadata": {
    "collapsed": false
   },
   "outputs": [
    {
     "name": "stdout",
     "output_type": "stream",
     "text": [
      "0\n",
      "['ADMINISTRATION DEPT.', 'ADMINISTRATIVE CODE', 'ADMINISTRATIVE RULES', 'AGRICULTURAL LAND', 'AGRICULTURE', 'AGRICULTURE COMMISSIONER', 'AGRICULTURE DEPT.', 'ANIMALS', 'APPOINTMENTS', 'ARMED FORCES', 'BEACH EROSION', 'BOARDS', 'BUDGET & MANAGEMENT OFFICE', 'BUILDING CODE COUNCIL', 'BUILDING CODES', 'CHIEF INFORMATION OFFICER', 'COASTAL RESOURCES', 'COASTAL RESOURCES COMN.', 'COLLEGES & UNIVERSITIES', 'COMMERCE', 'COMMISSIONS', 'COMMITTEES', 'COMMUNITY COLLEGES', 'COMMUNITY COLLEGES OFFICE', 'CONSERVATION', 'CONSTRUCTION', 'CONTRACTS', 'CORPORATIONS', 'NONPROFIT', 'COUNCIL OF STATE', 'COUNCILS', 'COUNTIES', 'CULTURAL RESOURCES', 'DAIRY PRODUCTS', 'DATA SYSTEMS', 'DEFINITIONS', 'DEQ', 'DMV', 'EDUCATION', 'EDUCATION BOARDS', 'ELECTRONIC GOVERNMENT', 'ELEMENTARY EDUCATION', 'EMPLOYMENT', 'ENVIRONMENT', 'ENVIRONMENTAL MANAGEMENT COMN.', 'EROSION STRUCTURES', 'FEES', 'FINANCIAL SERVICES', 'FISH & WILDLIFE', 'FISHERIES', 'FOODS & BEVERAGES', 'FRANCHISES', 'GENERAL ASSEMBLY', 'GENERAL CONTRACTORS BOARD', 'GOVERNOR', 'HEALTH SERVICES', 'HIGHER EDUCATION', 'HOUSING', 'INFORMATION TECHNOLOGY', 'INFORMATION TECHNOLOGY DEPT.', 'INFRASTRUCTURE', 'INSPECTIONS', 'INTERNET', 'INTERSTATE COOPERATION', 'KINDERGARTEN', 'LAKES & RIVERS', 'LANDLORD & TENANT', 'LANDOWNERS', 'LANDSCAPING', 'LEGISLATIVE SERVICES OFFICE', 'LICENSE PLATES', 'LICENSES & PERMITS', 'LICENSING & CERTIFICATION', 'LOANS', 'LOCAL GOVERNMENT', 'LOCAL GOVERNMENT COMN.', 'LT. GOVERNOR', 'MANAGEMENT', 'MARINE FISHERIES COMN.', 'MEDICAL CARE COMN.', 'MEMBERSHIP', 'MILITARY BASES', 'MINING & MINERAL EXTRACTION', 'MORTGAGES', 'MOTOR FLEET', 'MOTOR VEHICLES', 'MUNICIPALITIES', 'MUSEUMS', 'NAME CHANGE', 'NATURAL & CULTURAL RESOURCES DEPT.', 'NOTIFICATION', 'OCCUPATIONS', 'PLANNING & ZONING', 'PRIVACY', 'PROGRAM EVALUATION COMM.', 'PROGRAM EVALUATION DIVISION', 'PROPERTY', 'PUBLIC', 'PUBLIC HEALTH', 'PUBLIC OFFICIALS', 'PUBLIC RECORDS', 'PURCHASING', 'REAL ESTATE', 'RECORDS', 'RECYCLING', 'REFRIGERATION EXAMINERS BOARD', 'REPORTS', 'ROADS & HIGHWAYS', 'RURAL DEVELOPMENT', 'SCHOOL OF GOVERNMENT', 'SECONDARY EDUCATION', 'SENTINEL LANDSCAPES COMM.', 'SESSION LAWS', 'SOIL & WATER CONSERVATION COMN.', 'SOILS', 'SOLID WASTE', 'STATE CONTROLLER', 'STATUTE OF LIMITATIONS', 'STUDIES', 'TRANSPORTATION', 'TRANSPORTATION DEPT.', 'UNC', 'UTILITIES', 'UTILITIES COMN.', 'WASTE MANAGEMENT', 'WATER & SEWER SYSTEMS', 'WATER RESOURCES', 'WILDLIFE RESOURCES COMN.', 'ZOOS']\n",
      "['ANIMALS', 'APPOINTMENTS', 'CONSTITUTION', 'NC', 'CORPORATIONS', 'FOR-PROFIT', 'CORPORATIONS', 'NONPROFIT', 'EMINENT DOMAIN', 'FISH & WILDLIFE', 'FUNDS & ACCOUNTS', 'GENERAL ASSEMBLY', 'GENERAL STATUTES', 'HUNTING & FISHING', 'LOCAL GOVERNMENT', 'LOCAL ORDINANCES', 'MEMBERSHIP', 'MUNICIPALITIES', 'PLANNING & ZONING', 'PRESIDENT PRO TEMPORE', 'PROPERTY', 'PUBLIC', 'SPEAKER', 'STUDIES', 'TASK FORCES', 'TAXATION', 'TAXES', 'CORPORATE INCOME', 'TAXES', 'INDIVIDUAL INCOME', 'TITLE CHANGE', 'ZONING MODERNIZATION TASK FORCE']\n",
      "1\n",
      "['BOARDS', 'CALENDAR', 'COUNTIES', 'EDUCATION', 'EDUCATION BOARDS', 'ELEMENTARY EDUCATION', 'KINDERGARTEN', 'LOCAL', 'LOCAL GOVERNMENT', 'PERSON COUNTY', 'SECONDARY EDUCATION']\n",
      "['ALAMANCE COUNTY', 'BOARDS', 'BURLINGTON', 'CALENDAR', 'COUNTIES', 'EDUCATION', 'EDUCATION BOARDS', 'ELEMENTARY EDUCATION', 'KINDERGARTEN', 'LOCAL', 'LOCAL GOVERNMENT', 'MUNICIPALITIES', 'SECONDARY EDUCATION']\n",
      "2\n",
      "['BLANK BILL', 'CABARRUS COUNTY', 'COUNTIES', 'LOCAL', 'UNION COUNTY']\n",
      "['BLANK BILL', 'BUNCOMBE COUNTY', 'COUNTIES', 'HENDERSON COUNTY', 'LOCAL', 'TRANSYLVANIA COUNTY']\n",
      "3\n",
      "['AGRICULTURAL EQUIPMENT', 'AGRICULTURE', 'ALCOHOLIC BEVERAGES', 'AVIATION', 'BEER & WINE', 'CASH CROPS', 'CHAPTERED', 'COMMERCE', 'CONSTRUCTION', 'CONSTRUCTION EQUIPMENT', 'CORPORATIONS', 'FOR-PROFIT', 'CORPORATIONS', 'NONPROFIT', 'COUNCIL OF STATE', 'COUNTIES', 'DEATH & DYING', 'ECONOMIC DEVELOPMENT', 'FUELS', 'FUNDS & ACCOUNTS', 'FUNERAL SERVICES', 'HEALTH SERVICES', 'HOSPITALS', 'INSURANCE', 'INSURANCE COMMISSIONER', 'INSURANCE DEPT.', 'INTEREST', 'LDC', 'LEASING', 'LICENSES & PERMITS', 'LOCAL GOVERNMENT', 'MANUFACTURING', 'MOTOR VEHICLES', 'PRESENTED', 'PUBLIC', 'PUBLIC OFFICIALS', 'RACING', 'RATIFIED', 'RECORDS', 'RETAILING', 'REVENUE DEPT.', 'SESSION LAWS', 'SHIPPING', 'SPORTS', 'SURETY & FIDELITY', 'TAX CREDITS', 'TAX DEDUCTIONS', 'TAX DISTRIBUTION', 'TAX EXEMPTIONS', 'TAX REFUNDS', 'TAXATION', 'TAXES', 'CORPORATE INCOME', 'TAXES', 'EXCISE', 'TAXES', 'FRANCHISE', 'TAXES', 'FUEL', 'TAXES', 'INDIVIDUAL INCOME', 'TAXES', 'SALES & USE', 'TAXIS', 'TOBACCO', 'TRANSPORTATION', 'WINERIES & BREWERIES']\n",
      "['AGRICULTURAL EQUIPMENT', 'AGRICULTURE', 'ALCOHOLIC BEVERAGES', 'AVIATION', 'BEER & WINE', 'CASH CROPS', 'COMMERCE', 'CORPORATIONS', 'FOR-PROFIT', 'CORPORATIONS', 'NONPROFIT', 'FUELS', 'FUNDS & ACCOUNTS', 'HEALTH SERVICES', 'HOSPITALS', 'INSURANCE', 'INSURANCE DEPT.', 'INTEREST', 'LEASING', 'LICENSES & PERMITS', 'LOCAL GOVERNMENT', 'MOTOR VEHICLES', 'PUBLIC', 'RACING', 'RETAILING', 'SESSION LAWS', 'SHIPPING', 'SPORTS', 'SURETY & FIDELITY', 'TAX CREDITS', 'TAX DEDUCTIONS', 'TAX DISTRIBUTION', 'TAX EXEMPTIONS', 'TAX REFUNDS', 'TAXATION', 'TAXES', 'CORPORATE INCOME', 'TAXES', 'EXCISE', 'TAXES', 'FUEL', 'TAXES', 'INDIVIDUAL INCOME', 'TAXES', 'SALES & USE', 'TAXIS', 'TOBACCO', 'TRANSPORTATION']\n"
     ]
    }
   ],
   "source": [
    "for topic_idx, top_docs in model.top_topic_docs(doc_topic_matrix, topics=[0,1,2,3], top_n=2):\n",
    "    print(topic_idx)\n",
    "    for j in top_docs:\n",
    "        print(corp[j].metadata['keywords'])"
   ]
  },
  {
   "cell_type": "markdown",
   "metadata": {},
   "source": [
    "#### View Top Terms, Top Keywords from Top Documents"
   ]
  },
  {
   "cell_type": "code",
   "execution_count": 101,
   "metadata": {
    "collapsed": false
   },
   "outputs": [
    {
     "data": {
      "text/plain": [
       "count    31470.000000\n",
       "mean         0.011770\n",
       "std          0.035995\n",
       "min          0.000000\n",
       "50%          0.000000\n",
       "75%          0.001839\n",
       "80%          0.007263\n",
       "90%          0.034381\n",
       "95%          0.073173\n",
       "97.5%        0.122555\n",
       "99%          0.190016\n",
       "max          0.399531\n",
       "dtype: float64"
      ]
     },
     "execution_count": 101,
     "metadata": {},
     "output_type": "execute_result"
    }
   ],
   "source": [
    "pandas.Series(doc_topic_matrix.reshape((doc_topic_matrix.shape[0]*doc_topic_matrix.shape[1],))).describe(percentiles=[0.75, 0.80, 0.90, 0.95, 0.975, 0.99])"
   ]
  },
  {
   "cell_type": "code",
   "execution_count": 102,
   "metadata": {
    "collapsed": false
   },
   "outputs": [
    {
     "data": {
      "text/plain": [
       "array([ 83,  52,  50,  92,  67, 100,  82,  78,  72,  96,  68,  67,  52,\n",
       "        25,  71])"
      ]
     },
     "execution_count": 102,
     "metadata": {},
     "output_type": "execute_result"
    }
   ],
   "source": [
    "sum(doc_topic_matrix > 0.1)"
   ]
  },
  {
   "cell_type": "code",
   "execution_count": 85,
   "metadata": {
    "collapsed": false
   },
   "outputs": [],
   "source": [
    "top_term_table = []\n",
    "index = []\n",
    "for topic_idx, top_terms in model.top_topic_terms(id2term, top_n = 15, topics=range(n_topics)):\n",
    "    index.append('topic ' + str(topic_idx))\n",
    "    top_term_table.append({i : tt for i,tt in enumerate(top_terms)})\n",
    "top_term_table = pandas.DataFrame(data=top_term_table, index=index)"
   ]
  },
  {
   "cell_type": "code",
   "execution_count": 86,
   "metadata": {
    "collapsed": false
   },
   "outputs": [
    {
     "data": {
      "text/html": [
       "<div>\n",
       "<table border=\"1\" class=\"dataframe\">\n",
       "  <thead>\n",
       "    <tr style=\"text-align: right;\">\n",
       "      <th></th>\n",
       "      <th>topic 0</th>\n",
       "      <th>topic 1</th>\n",
       "      <th>topic 2</th>\n",
       "      <th>topic 3</th>\n",
       "      <th>topic 4</th>\n",
       "      <th>topic 5</th>\n",
       "      <th>topic 6</th>\n",
       "      <th>topic 7</th>\n",
       "      <th>topic 8</th>\n",
       "      <th>topic 9</th>\n",
       "      <th>topic 10</th>\n",
       "      <th>topic 11</th>\n",
       "      <th>topic 12</th>\n",
       "      <th>topic 13</th>\n",
       "      <th>topic 14</th>\n",
       "    </tr>\n",
       "  </thead>\n",
       "  <tbody>\n",
       "    <tr>\n",
       "      <th>0</th>\n",
       "      <td>shall</td>\n",
       "      <td>school</td>\n",
       "      <td>senatorial</td>\n",
       "      <td>tax</td>\n",
       "      <td>fund</td>\n",
       "      <td>person</td>\n",
       "      <td>health</td>\n",
       "      <td>employee</td>\n",
       "      <td>resolution</td>\n",
       "      <td>school</td>\n",
       "      <td>vehicle</td>\n",
       "      <td>election</td>\n",
       "      <td>town</td>\n",
       "      <td>state</td>\n",
       "      <td>member</td>\n",
       "    </tr>\n",
       "    <tr>\n",
       "      <th>1</th>\n",
       "      <td>state</td>\n",
       "      <td>close</td>\n",
       "      <td>district</td>\n",
       "      <td>taxable</td>\n",
       "      <td>fiscal</td>\n",
       "      <td>court</td>\n",
       "      <td>child</td>\n",
       "      <td>employer</td>\n",
       "      <td>committee</td>\n",
       "      <td>student</td>\n",
       "      <td>plate</td>\n",
       "      <td>voter</td>\n",
       "      <td>property</td>\n",
       "      <td>united</td>\n",
       "      <td>board</td>\n",
       "    </tr>\n",
       "    <tr>\n",
       "      <th>2</th>\n",
       "      <td>commission</td>\n",
       "      <td>opening</td>\n",
       "      <td>act-*number*.</td>\n",
       "      <td>taxpayer</td>\n",
       "      <td>appropriation</td>\n",
       "      <td>offense</td>\n",
       "      <td>service</td>\n",
       "      <td>wage</td>\n",
       "      <td>senate</td>\n",
       "      <td>education</td>\n",
       "      <td>motor</td>\n",
       "      <td>vote</td>\n",
       "      <td>city</td>\n",
       "      <td>constitution</td>\n",
       "      <td>appoint</td>\n",
       "    </tr>\n",
       "    <tr>\n",
       "      <th>3</th>\n",
       "      <td>department</td>\n",
       "      <td>calendar</td>\n",
       "      <td>relate</td>\n",
       "      <td>income</td>\n",
       "      <td>usd*number</td>\n",
       "      <td>defendant</td>\n",
       "      <td>care</td>\n",
       "      <td>retirement</td>\n",
       "      <td>joint</td>\n",
       "      <td>charter</td>\n",
       "      <td>registration</td>\n",
       "      <td>candidate</td>\n",
       "      <td>council</td>\n",
       "      <td>convention</td>\n",
       "      <td>shall</td>\n",
       "    </tr>\n",
       "    <tr>\n",
       "      <th>4</th>\n",
       "      <td>agency</td>\n",
       "      <td>date</td>\n",
       "      <td>local</td>\n",
       "      <td>credit</td>\n",
       "      <td>year</td>\n",
       "      <td>shall</td>\n",
       "      <td>medicaid</td>\n",
       "      <td>plan</td>\n",
       "      <td>house</td>\n",
       "      <td>teacher</td>\n",
       "      <td>license</td>\n",
       "      <td>shall</td>\n",
       "      <td>corporate</td>\n",
       "      <td>amendment</td>\n",
       "      <td>term</td>\n",
       "    </tr>\n",
       "    <tr>\n",
       "      <th>5</th>\n",
       "      <td>information</td>\n",
       "      <td>closing</td>\n",
       "      <td>senator</td>\n",
       "      <td>sale</td>\n",
       "      <td>dollar</td>\n",
       "      <td>felony</td>\n",
       "      <td>program</td>\n",
       "      <td>tip</td>\n",
       "      <td>legislative</td>\n",
       "      <td>grade</td>\n",
       "      <td>division</td>\n",
       "      <td>county</td>\n",
       "      <td>charter</td>\n",
       "      <td>congress</td>\n",
       "      <td>trustee</td>\n",
       "    </tr>\n",
       "    <tr>\n",
       "      <th>6</th>\n",
       "      <td>contract</td>\n",
       "      <td>board</td>\n",
       "      <td>senate</td>\n",
       "      <td>year</td>\n",
       "      <td>appropriate</td>\n",
       "      <td>judge</td>\n",
       "      <td>human</td>\n",
       "      <td>benefit</td>\n",
       "      <td>representative</td>\n",
       "      <td>board</td>\n",
       "      <td>driver</td>\n",
       "      <td>board</td>\n",
       "      <td>lien</td>\n",
       "      <td>legislature</td>\n",
       "      <td>governor</td>\n",
       "    </tr>\n",
       "    <tr>\n",
       "      <th>7</th>\n",
       "      <td>include</td>\n",
       "      <td>local</td>\n",
       "      <td>law</td>\n",
       "      <td>levy</td>\n",
       "      <td>thousand</td>\n",
       "      <td>petitioner</td>\n",
       "      <td>plan</td>\n",
       "      <td>employment</td>\n",
       "      <td>rule</td>\n",
       "      <td>program</td>\n",
       "      <td>fee</td>\n",
       "      <td>ballot</td>\n",
       "      <td>limit</td>\n",
       "      <td>v</td>\n",
       "      <td>serve</td>\n",
       "    </tr>\n",
       "    <tr>\n",
       "      <th>8</th>\n",
       "      <td>require</td>\n",
       "      <td>monday</td>\n",
       "      <td>primary</td>\n",
       "      <td>property</td>\n",
       "      <td>budget</td>\n",
       "      <td>violation</td>\n",
       "      <td>department</td>\n",
       "      <td>state</td>\n",
       "      <td>bill</td>\n",
       "      <td>shall</td>\n",
       "      <td>special</td>\n",
       "      <td>office</td>\n",
       "      <td>county</td>\n",
       "      <td>propose</td>\n",
       "      <td>education</td>\n",
       "    </tr>\n",
       "    <tr>\n",
       "      <th>9</th>\n",
       "      <td>article</td>\n",
       "      <td>august</td>\n",
       "      <td>short</td>\n",
       "      <td>business</td>\n",
       "      <td>highway</td>\n",
       "      <td>order</td>\n",
       "      <td>division</td>\n",
       "      <td>leave</td>\n",
       "      <td>extra</td>\n",
       "      <td>local</td>\n",
       "      <td>dealer</td>\n",
       "      <td>elect</td>\n",
       "      <td>describe</td>\n",
       "      <td>america</td>\n",
       "      <td>appointment</td>\n",
       "    </tr>\n",
       "    <tr>\n",
       "      <th>10</th>\n",
       "      <td>report</td>\n",
       "      <td>education</td>\n",
       "      <td>20th</td>\n",
       "      <td>gross</td>\n",
       "      <td>sum</td>\n",
       "      <td>conviction</td>\n",
       "      <td>shall</td>\n",
       "      <td>teacher</td>\n",
       "      <td>resolve</td>\n",
       "      <td>performance</td>\n",
       "      <td>drive</td>\n",
       "      <td>petition</td>\n",
       "      <td>real</td>\n",
       "      <td>right</td>\n",
       "      <td>elect</td>\n",
       "    </tr>\n",
       "    <tr>\n",
       "      <th>11</th>\n",
       "      <td>provide</td>\n",
       "      <td>student</td>\n",
       "      <td>30th</td>\n",
       "      <td>code</td>\n",
       "      <td>grant</td>\n",
       "      <td>juvenile</td>\n",
       "      <td>provider</td>\n",
       "      <td>pay</td>\n",
       "      <td>appointment</td>\n",
       "      <td>score</td>\n",
       "      <td>transportation</td>\n",
       "      <td>district</td>\n",
       "      <td>tax</td>\n",
       "      <td>government</td>\n",
       "      <td>retirement</td>\n",
       "    </tr>\n",
       "    <tr>\n",
       "      <th>12</th>\n",
       "      <td>service</td>\n",
       "      <td>modify</td>\n",
       "      <td>6th</td>\n",
       "      <td>deduction</td>\n",
       "      <td>biennium</td>\n",
       "      <td>commit</td>\n",
       "      <td>committee</td>\n",
       "      <td>allowance</td>\n",
       "      <td>ratification</td>\n",
       "      <td>pilot</td>\n",
       "      <td>issue</td>\n",
       "      <td>hold</td>\n",
       "      <td>ordinance</td>\n",
       "      <td>application</td>\n",
       "      <td>council</td>\n",
       "    </tr>\n",
       "    <tr>\n",
       "      <th>13</th>\n",
       "      <td>public</td>\n",
       "      <td>day</td>\n",
       "      <td>15th</td>\n",
       "      <td>number*%</td>\n",
       "      <td>million</td>\n",
       "      <td>'s</td>\n",
       "      <td>benefit</td>\n",
       "      <td>dependent</td>\n",
       "      <td>governor</td>\n",
       "      <td>unit</td>\n",
       "      <td>highway</td>\n",
       "      <td>judge</td>\n",
       "      <td>plat</td>\n",
       "      <td>twothirds</td>\n",
       "      <td>vacancy</td>\n",
       "    </tr>\n",
       "    <tr>\n",
       "      <th>14</th>\n",
       "      <td>project</td>\n",
       "      <td>year</td>\n",
       "      <td>10th</td>\n",
       "      <td>usd*number</td>\n",
       "      <td>department</td>\n",
       "      <td>criminal</td>\n",
       "      <td>medical</td>\n",
       "      <td>labor</td>\n",
       "      <td>study</td>\n",
       "      <td>high</td>\n",
       "      <td>person</td>\n",
       "      <td>voting</td>\n",
       "      <td>local</td>\n",
       "      <td>federal</td>\n",
       "      <td>commission</td>\n",
       "    </tr>\n",
       "  </tbody>\n",
       "</table>\n",
       "</div>"
      ],
      "text/plain": [
       "        topic 0    topic 1        topic 2     topic 3        topic 4  \\\n",
       "0         shall     school     senatorial         tax           fund   \n",
       "1         state      close       district     taxable         fiscal   \n",
       "2    commission    opening  act-*number*.    taxpayer  appropriation   \n",
       "3    department   calendar         relate      income     usd*number   \n",
       "4        agency       date          local      credit           year   \n",
       "5   information    closing        senator        sale         dollar   \n",
       "6      contract      board         senate        year    appropriate   \n",
       "7       include      local            law        levy       thousand   \n",
       "8       require     monday        primary    property         budget   \n",
       "9       article     august          short    business        highway   \n",
       "10       report  education           20th       gross            sum   \n",
       "11      provide    student           30th        code          grant   \n",
       "12      service     modify            6th   deduction       biennium   \n",
       "13       public        day           15th    number*%        million   \n",
       "14      project       year           10th  usd*number     department   \n",
       "\n",
       "       topic 5     topic 6     topic 7         topic 8      topic 9  \\\n",
       "0       person      health    employee      resolution       school   \n",
       "1        court       child    employer       committee      student   \n",
       "2      offense     service        wage          senate    education   \n",
       "3    defendant        care  retirement           joint      charter   \n",
       "4        shall    medicaid        plan           house      teacher   \n",
       "5       felony     program         tip     legislative        grade   \n",
       "6        judge       human     benefit  representative        board   \n",
       "7   petitioner        plan  employment            rule      program   \n",
       "8    violation  department       state            bill        shall   \n",
       "9        order    division       leave           extra        local   \n",
       "10  conviction       shall     teacher         resolve  performance   \n",
       "11    juvenile    provider         pay     appointment        score   \n",
       "12      commit   committee   allowance    ratification        pilot   \n",
       "13          's     benefit   dependent        governor         unit   \n",
       "14    criminal     medical       labor           study         high   \n",
       "\n",
       "          topic 10   topic 11   topic 12      topic 13     topic 14  \n",
       "0          vehicle   election       town         state       member  \n",
       "1            plate      voter   property        united        board  \n",
       "2            motor       vote       city  constitution      appoint  \n",
       "3     registration  candidate    council    convention        shall  \n",
       "4          license      shall  corporate     amendment         term  \n",
       "5         division     county    charter      congress      trustee  \n",
       "6           driver      board       lien   legislature     governor  \n",
       "7              fee     ballot      limit             v        serve  \n",
       "8          special     office     county       propose    education  \n",
       "9           dealer      elect   describe       america  appointment  \n",
       "10           drive   petition       real         right        elect  \n",
       "11  transportation   district        tax    government   retirement  \n",
       "12           issue       hold  ordinance   application      council  \n",
       "13         highway      judge       plat     twothirds      vacancy  \n",
       "14          person     voting      local       federal   commission  "
      ]
     },
     "execution_count": 86,
     "metadata": {},
     "output_type": "execute_result"
    }
   ],
   "source": [
    "top_term_table.transpose()"
   ]
  },
  {
   "cell_type": "code",
   "execution_count": 93,
   "metadata": {
    "collapsed": true
   },
   "outputs": [],
   "source": [
    "top_keywords = {}\n",
    "for topic_idx, top_docs in model.top_topic_docs(doc_topic_matrix, topics=range(n_topics), top_n=10):\n",
    "    topic = 'topic ' + str(topic_idx)\n",
    "    keywords = []\n",
    "    for j in top_docs:\n",
    "        keywords.extend(corp[j].metadata['keywords'])\n",
    "    top_keywords[topic] = set(keywords)"
   ]
  },
  {
   "cell_type": "code",
   "execution_count": 94,
   "metadata": {
    "collapsed": false,
    "scrolled": false
   },
   "outputs": [
    {
     "name": "stdout",
     "output_type": "stream",
     "text": [
      "\n",
      "\n",
      "topic 0:\n",
      "{'ANIMALS', 'LAKES & RIVERS', 'LANDOWNERS', 'INFORMATION TECHNOLOGY', 'APPOINTMENTS', 'DMV', 'PLANNING & ZONING', 'CHIEF INFORMATION OFFICER', 'PROGRAM EVALUATION DIVISION', 'SECONDARY EDUCATION', 'ELECTRICITY', 'TRANSPORTATION DEPT.', 'EDUCATION BOARDS', 'EMINENT DOMAIN', 'STATE BUILDINGS', 'PUBLIC OFFICIALS', 'LOANS', 'PRIVACY', 'CONTRACTS', 'RATIFIED', 'SPEED LIMIT', 'EROSION STRUCTURES', 'STATE EMPLOYEES', 'FOODS & BEVERAGES', 'HUNTING & FISHING', 'TITLE CHANGE', 'COUNCIL OF STATE', 'EMPLOYMENT', '911 BOARD', 'CHAPTERED', 'MUSEUMS', 'MANAGEMENT', 'CONSTRUCTION', 'NATURAL & CULTURAL RESOURCES DEPT.', 'SCHOOL OF GOVERNMENT', 'UNC', 'HORSES & MULES', 'LIVESTOCK & POULTRY', 'GOVERNMENT EMPLOYEES', 'BOARDS', 'STATUTE OF LIMITATIONS', 'PILOT PROGRAMS', 'COMMUNITY COLLEGES', 'LEASING', 'PUBLIC BUILDINGS', 'LOCAL ORDINANCES', 'ROADS & HIGHWAYS', 'MUNICIPALITIES', 'COLLEGES & UNIVERSITIES', 'VETERINARY MEDICINE', 'INFORMATION TECHNOLOGY DEPT.', 'UTILITIES COMN.', 'COMMITTEES', 'SENTINEL LANDSCAPES COMM.', 'OCCUPATIONS', 'FARMLAND PRESERVATION FUND', 'WETLANDS', 'WILDLIFE RESOURCES COMN.', 'STATE PROPERTY', 'TELECOMMUNICATIONS', 'MARINE FISHERIES COMN.', 'PUBLIC HEALTH', 'RURAL DEVELOPMENT', 'HIGHER EDUCATION', 'MEDICAL CARE COMN.', 'CRIMES', 'LT. GOVERNOR', 'TELESERVICES', 'INTERNET', 'HORTICULTURE', 'MANUFACTURING', 'BUDGETING', 'FOR-PROFIT', 'AGRICULTURAL WASTE', 'AGRICULTURE', 'SAFETY EQUIPMENT', 'GEOGRAPHIC INFORMATION COUNCIL', 'RECORDS', 'CULTURAL RESOURCES', 'CORPORATE INCOME', 'COMMERCE DEPT.', 'PUBLIC RECORDS', 'WEATHER', 'FRANCHISES', 'INFRASTRUCTURE', 'FUNDS & ACCOUNTS', 'MINING & MINERAL EXTRACTION', 'LICENSE PLATES', 'REPORTS', 'ADMINISTRATION DEPT.', 'BUILDING CODES', 'FISH & WILDLIFE', 'WASTE MANAGEMENT', 'PHARMACEUTICALS', 'POLLUTION', 'EDUCATION', 'MEMBERSHIP', 'SOLID WASTE', 'EMERGENCY SERVICES', 'MILITARY BASES', 'FORESTRY', 'FISHERIES', 'PHARMACISTS', 'COASTAL RESOURCES', 'TAX WITHHOLDING', 'STUDIES', 'STATE CONTROLLER', 'CONSERVATION', 'PUBLIC SAFETY DEPT.', 'BEACH EROSION', 'NONPROFIT', 'NAME CHANGE', 'CORPORATIONS', 'ARMED FORCES', 'SHERIFFS', 'TRAFFIC OFFENSES', 'COMMUNITY COLLEGES OFFICE', 'REFRIGERATION EXAMINERS BOARD', 'ALCOHOLIC BEVERAGES', 'LICENSES & PERMITS', 'IMMIGRATION', 'STORAGE TANKS', 'ELEMENTARY EDUCATION', 'ZOOS', 'INSPECTIONS', 'PROGRAM EVALUATION COMM.', 'SAFETY', 'PRESENTED', 'ECONOMIC DEVELOPMENT', 'PESTICIDES & HERBICIDES', 'AQUACULTURE', 'FEES', 'CONTROLLED SUBSTANCES', 'INTERSTATE COOPERATION', 'TRANSPORTATION', 'PRESIDENT PRO TEMPORE', 'WINERIES & BREWERIES', 'NC', 'BUILDING CODE COUNCIL', 'DAIRY PRODUCTS', 'GENERAL STATUTES', 'ALTERNATIVE ENERGY', 'CONFIDENTIALITY', 'SOILS', 'LAW ENFORCEMENT', 'WATER & SEWER SYSTEMS', 'CRIMINAL JUSTICE INFORMATION BD.', 'TAXES', 'PERSONNEL', 'COMMISSIONS', 'FISHERIES PRODUCTS', 'COASTAL RESOURCES COMN.', 'KINDERGARTEN', 'GOVERNOR', 'HORSE COUNCIL', 'AGRICULTURE COMMISSIONER', 'LOCAL GOVERNMENT COMN.', 'ABANDONED PROPERTY', 'DEFINITIONS', 'CONSTITUTION', 'GENERAL ASSEMBLY', 'PUBLIC', 'WORK SAFETY', 'SURPLUS PROPERTY', 'WATER RESOURCES', 'ELECTRONIC GOVERNMENT', 'AGRICULTURAL EQUIPMENT', 'INDIVIDUAL INCOME', 'GEOGRAPHY', 'COUNTIES', 'NOTIFICATION', 'TAXATION', 'LEGISLATIVE SERVICES OFFICE', 'ENVIRONMENT', 'UNREGULATED VEHICLES', 'MOTOR VEHICLES', 'FINANCIAL SERVICES', 'SPEAKER', 'BUDGET & MANAGEMENT OFFICE', 'COUNCILS', 'ENVIRONMENTAL MANAGEMENT COMN.', 'DATA SYSTEMS', 'PESTICIDE BOARD', 'SOIL & WATER CONSERVATION COMN.', 'PRODUCE', 'MIGRANT WORKERS', 'GENERAL CONTRACTORS BOARD', 'PURCHASING', 'LABOR DEPT.', 'MORTGAGES', 'LOCAL GOVERNMENT', 'HOUSING', 'ADMINISTRATIVE RULES', 'ADMINISTRATIVE CODE', 'AGRICULTURAL LAND', 'PROPERTY', 'ZONING MODERNIZATION TASK FORCE', 'FINES & PENALTIES', 'AGRICULTURE DEPT.', 'BEER & WINE', 'RENEWABLE ENERGY STUDY COMM.', 'INFORMATION TECHNOLOGY OFFICE', 'COMMUNICATIONS', 'DEQ', 'REAL ESTATE', 'RECYCLING', 'ADVERTISING', 'COMMERCE', 'LANDSCAPING', 'SALES & CONVEYANCES', 'HEALTH SERVICES', 'TASK FORCES', 'REPORTING', 'ALIENS', 'MOTOR FLEET', 'STORAGE SYSTEMS', 'BUILDINGS', 'SESSION LAWS', 'OSHA', 'SALARIES & BENEFITS', 'LICENSING & CERTIFICATION', 'ABC COMN.', 'UTILITIES', 'LANDLORD & TENANT', 'STATE VETERINARIAN'}\n",
      "\n",
      "\n",
      "topic 1:\n",
      "{'MITCHELL COUNTY', 'WINSTON-SALEM', 'ASHE COUNTY', 'ELEMENTARY EDUCATION', 'SECONDARY EDUCATION', 'WATAUGA COUNTY', 'EDUCATION BOARDS', 'LOCAL', 'FORSYTH COUNTY', 'CALENDAR', 'LOCAL GOVERNMENT', 'BURLINGTON', 'EDUCATION', 'ALAMANCE COUNTY', 'KINDERGARTEN', 'BOARDS', 'MCDOWELL COUNTY', 'WHITEVILLE', 'GUILFORD COUNTY', 'MUNICIPALITIES', 'PUBLIC', 'PERSON COUNTY', 'MARTIN COUNTY', 'COUNTIES', 'COLUMBUS COUNTY', 'AVERY COUNTY'}\n",
      "\n",
      "\n",
      "topic 2:\n",
      "{'CLEVELAND COUNTY', 'MITCHELL COUNTY', 'BRUNSWICK COUNTY', 'TRANSYLVANIA COUNTY', 'LOCAL', 'RANDOLPH COUNTY', 'CABARRUS COUNTY', 'MOORE COUNTY', 'NEW HANOVER COUNTY', 'BUNCOMBE COUNTY', 'MECKLENBURG COUNTY', 'BLANK BILL', 'BLADEN COUNTY', 'HENDERSON COUNTY', 'MADISON COUNTY', 'UNION COUNTY', 'ROBESON COUNTY', 'MCDOWELL COUNTY', 'RUTHERFORD COUNTY', 'DAVIDSON COUNTY', 'BURKE COUNTY', 'POLK COUNTY', 'YANCEY COUNTY', 'PENDER COUNTY', 'MONTGOMERY COUNTY', 'COUNTIES', 'COLUMBUS COUNTY'}\n",
      "\n",
      "\n",
      "topic 3:\n",
      "{'ELECTRICITY', 'PUBLIC OFFICIALS', 'FUEL', 'SURETY & FIDELITY', 'LOANS', 'RATIFIED', 'FOODS & BEVERAGES', 'TITLE CHANGE', 'COUNCIL OF STATE', 'CHAPTERED', 'ENTERTAINMENT INDUSTRY', 'CONSTRUCTION', 'HOSPITALS', 'REGISTER OF DEEDS', 'SPORTS', 'LEASING', 'UTILITIES COMN.', 'DEATH & DYING', 'TELECOMMUNICATIONS', 'MANUFACTURING', 'FOR-PROFIT', 'AGRICULTURE', 'RECORDS', 'CORPORATE INCOME', 'LDC', 'PUBLIC RECORDS', 'INFRASTRUCTURE', 'FUNDS & ACCOUNTS', 'REVENUE DEPT.', 'EXCISE', 'RECORDATION OF INSTRUMENTS', 'TAX DISTRIBUTION', 'DEEDS', 'FAMILY  ISSUES', 'RETAILING', 'INSURANCE COMMISSIONER', 'CASH CROPS', 'NONPROFIT', 'CORPORATIONS', 'TAX EXEMPTIONS', 'ALCOHOLIC BEVERAGES', 'TAX CREDITS', 'LICENSES & PERMITS', 'SALES & USE', 'TAXIS', 'PRESENTED', 'ECONOMIC DEVELOPMENT', 'FEES', 'TRANSPORTATION', 'TAX DEDUCTIONS', 'WINERIES & BREWERIES', 'NC', 'TAX REFUNDS', 'TAXES', 'TOBACCO', 'COMMISSIONS', 'SHIPPING', 'FRANCHISE', 'CONSTITUTION', 'PUBLIC', 'AGRICULTURAL EQUIPMENT', 'INDIVIDUAL INCOME', 'COUNTIES', 'TAXATION', 'RACING', 'MOTOR VEHICLES', 'FINANCIAL SERVICES', 'FUNERAL SERVICES', 'AVIATION', 'INSURANCE', 'INTEREST', 'MORTGAGES', 'LOCAL GOVERNMENT', 'CONSTRUCTION EQUIPMENT', 'HOUSING', 'FOOD SERVICES', 'PROPERTY', 'BEER & WINE', 'REAL ESTATE', 'FUELS', 'COMMERCE', 'HEALTH SERVICES', 'LICENSE', 'SESSION LAWS', 'INSURANCE DEPT.', 'UTILITIES'}\n",
      "\n",
      "\n",
      "topic 4:\n",
      "{'SOCIAL SERVICES DEPTS.', 'RESPITE CARE', 'DMV', 'CHIEF INFORMATION OFFICER', 'SECONDARY EDUCATION', 'RESEARCH', 'CHILD CUSTODY', 'CHILD SUPPORT', 'ONE NORTH CAROLINA FUND', 'RATIFIED', 'STATE EMPLOYEES', 'DISASTERS & EMERGENCIES', 'MEDICAL EXAMINERS', 'HISTORIC SITES & MONUMENTS', 'EMERGING TECHNOLOGIES', 'ENTERTAINMENT INDUSTRY', 'MANAGEMENT', 'CONSTRUCTION', 'UNC', 'BEACH NOURISHMENT & REPLENISHMENT', 'MONITORING & SURVEILLANCE SYSTEMS', 'PILOT PROGRAMS', 'SPORTS', 'MUNICIPALITIES', 'UTILITIES COMN.', 'DEATH BENEFITS', 'WILDLIFE RESOURCES COMN.', 'ARTS', 'HISTORICAL COMN.', 'INTERNET', 'MANUFACTURING', 'AGRICULTURAL WASTE', 'INDIGENT DEFENSE SERVICES OFFICE', 'CJE & TRAINING STANDARDS COMN.', 'JUSTICE OVERSIGHT COMM.', 'FOREST PRODUCTS', 'LDC', 'SOCIAL SERVICES', 'POVERTY', 'INFRASTRUCTURE', 'REVENUE DEPT.', 'CITIZENSHIP', 'TOBACCO PRODUCTS', 'DOMESTIC ANIMALS', 'ADMINISTRATION DEPT.', 'FISH & WILDLIFE', 'DOMESTIC VIOLENCE COMN.', 'SBI', 'BLACK MOUNTAIN', 'EDUCATION CABINET', 'MOTOR VEHICLE', 'SOCIAL SERVICES COMN.', 'TEACHERS', 'MENTAL HEALTH', 'CANCER', 'COASTAL RESOURCES', 'PUBLIC SAFETY DEPT.', 'WORKERS COMPENSATION STUDY COMM.', 'CORPORATIONS', 'HAZARDOUS WASTE', 'HOME HEALTH CARE', 'STATE TREASURER', 'LICENSE TO GIVE TRUST FUND COMN.', 'MEDICAID', 'TAX CREDITS', 'EVIDENCE', 'WOMEN', 'SAFETY', 'ECONOMIC DEVELOPMENT', 'SCHOLARSHIPS', 'HICKORY', 'FEES', 'FIREMENS PENSION FUND', 'GENERAL STATUTES', 'MONUMENTS & MEMORIALS', 'NURSING', 'SOILS', 'MINORS', 'NCWORKS COMN.', 'PARKS & RECREATION AREAS', 'PAROLE COMN.', 'TOBACCO', 'AQUARIUMS', 'LITERACY', 'SHIPPING', 'HEALTH INFORMATION EXCHANGE BOARD', 'MEDICAL RECORDS', 'AGRICULTURE RESOURCES OVERSIGHT COMM.', 'CERTIFICATES OF NEED', 'UNMANNED AIRCRAFT', 'WORK SAFETY', 'EROSION', 'COUNTIES', 'CAPITAL IMPROVEMENTS OVERSIGHT COMM.', 'ANIMAL CONTROL', 'PRINCIPALS', 'BUDGET & MANAGEMENT OFFICE', 'COUNCILS', 'TELECONFERENCING', 'BLIND COMN.', 'CLEAN WATER TRUST FUND', 'LIFE', 'AIDS', 'HOUSING', 'DOMESTIC VIOLENCE', 'FINES & PENALTIES', 'FUNDING', 'BEER & WINE', 'ZOOLOGICAL PARK COUNCIL', 'BOARD OF REVIEW', 'HOME SCHOOLING', 'COURT CLERKS', 'ASHEVILLE', 'TEXTILES', 'APPRENTICESHIPS', 'VICTIMS RIGHTS', 'LICENSING & CERTIFICATION', 'NEWTON', 'ABC COMN.', 'ANIMALS', 'APPOINTMENTS', 'PRIVATE SCHOOLS', 'EDUCATION BOARDS', 'SUNSETS', 'STATE BUILDINGS', 'INVESTIGATIONS', 'LOTTERY', 'TRIBAL GOVERNMENT', 'EDUCATION ADMINISTRATION', 'SPEED LIMIT', 'TITLE CHANGE', 'COURT OF APPEALS', 'COUNCIL OF STATE', 'ARBORETUMS & BOTANICAL GARDENS', 'APPROPRIATIONS', 'ZOO FUND', 'MAGISTRATES', 'VOCATIONAL EDUCATION', 'GOVERNMENT EMPLOYEES', 'LEASING', 'ROADS & HIGHWAYS', 'PUBLIC DEFENDERS', 'INFORMATION TECHNOLOGY DEPT.', 'COMMITTEES', 'TSERS', 'WETLANDS', 'STATE PROPERTY', 'HEALTH BENEFITS AUTHORITY BOARD', 'CRIMES', 'LT. GOVERNOR', 'BUDGETING', 'STATE HEALTH PLAN', 'BRIDGES', 'AGRICULTURE', 'PROFESSIONAL EDUCATION', 'GRANTS', 'DARE COUNTY', 'LOTTERY FUND', 'MEDICAL EQUIPMENT', 'INDUSTRIAL EQUIPMENT', 'DISEASES & HEALTH DISORDERS', 'MINING & MINERAL EXTRACTION', 'LICENSE PLATES', 'EXCISE', 'REPORTS', 'HOMICIDE', 'INDIGENTS', 'MEMBERSHIP', 'EMERGENCY SERVICES', 'CLINICS', 'TRAVEL & TOURISM', 'FALLS LAKE', 'TRUCKS', 'FORESTRY', 'MOTORCYCLES', 'TOLL ROADS & BRIDGES', 'INTERNATIONAL TRADE', 'TAX DISTRIBUTION', 'FAMILY  ISSUES', 'SECRETARY OF STATE', 'CONSERVATION', 'DIVORCE', 'TRAFFIC OFFENSES', 'ALCOHOLIC BEVERAGES', 'LABORATORIES', 'STORAGE TANKS', 'ELEMENTARY EDUCATION', 'SALES & USE', 'WATAUGA COUNTY', 'AUTHORITIES', 'CONTROLLED SUBSTANCES', 'ESCHEATS', 'INTERSTATE COOPERATION', 'TAX DEDUCTIONS', 'AUDITING & AUDITS', 'TIMBER', 'LAW ENFORCEMENT', 'SCIENCE & TECHNOLOGY', 'BOONE', 'FOSTER CARE', 'INMATES', 'PUBLIC', 'GENERAL ASSEMBLY', 'INVESTMENTS', 'MERIT SYSTEMS', 'LMES', 'ELECTRONIC GOVERNMENT', 'CHIEF JUSTICE', 'GEOGRAPHY', 'EMERGENCY MANAGEMENT', 'SUBSTANCE ABUSE', 'GENETICS', 'RACING', 'LEGISLATIVE RESEARCH COMN.', 'FRAUD', 'BICYCLES', 'CRIMINAL PROCEDURE', 'COUNSELING', 'INSURANCE', 'AVIATION', 'BIOTECHNOLOGY', 'DATA SYSTEMS', 'ADOPTION', 'LABOR DEPT.', 'ADMINISTRATIVE RULES', 'PROPERTY', 'AGRICULTURE DEPT.', 'INFORMATION TECHNOLOGY OFFICE', 'COMMUNICATIONS', 'REAL ESTATE', 'ADVERTISING', 'HEALTH BENEFITS AUTHORITY OVERSIGHT COMM.', 'COMMERCE', 'NARCOTICS', 'JORDAN LAKE', 'WORKFORCE DEVELOPMENT COMN.', 'HEALTH SERVICES', 'NEWBORNS & INFANTS', 'REPORTING', 'TASK FORCES', 'EUGENICS', 'CAMERAS', 'ADMIN. HEARINGS OFFICE', 'REVISOR OF STATUTES', 'ELECTRONIC COMMERCE', 'NATURAL RESOURCES OVERSIGHT COMM.', 'UTILITIES', 'NATIONAL GUARD', 'DAY CARE', 'SHALLOW DRAFT INLET DREDGING FUND', 'BIDS & BIDDING', 'COURT COSTS & FEES', 'SECURITIES', 'ROSE HILL', 'TRANSPORTATION DEPT.', 'PENSION & RETIREMENT FUNDS', 'PUBLIC OFFICIALS', 'FUEL', 'POLITICAL ACTIVITY', 'LOANS', 'LONGITUDINAL DATA SYSTEM BOARD', 'PAROLE & PROBATION', 'DNA', 'EMPLOYMENT', 'CHILDREN WITH SPECIAL NEEDS', 'DRIVERS LICENSES', 'WORKFORCE DEVELOPMENT BOARDS', 'CONOVER', 'NEW HANOVER COUNTY', 'MUSEUMS', 'WATER INFRASTRUCTURE AUTHORITY', 'NATURAL & CULTURAL RESOURCES DEPT.', 'HOSPITALS', 'PRIVATIZATION', 'SEDIMENTATION CONTROL COMN.', 'TURNPIKE AUTHORITY BOARD', 'WILMINGTON', 'NURSING HOME ADMIN. BOARD', 'BOARDS', 'COMMUNITY COLLEGES', 'RUTHERFORD COUNTY', 'FIREFIGHTERS & FIREFIGHTING', 'COLLEGES & UNIVERSITIES', 'TELECOMMUNICATIONS', 'TUITION', 'PUBLIC HEALTH', 'MARINE FISHERIES COMN.', 'RURAL DEVELOPMENT', 'ATTORNEY GENERAL', 'PUBLIC INSTRUCTION DEPT.', 'HORTICULTURE', 'TESTING', 'HOUSING FINANCE AGENCY', 'RULES REVIEW COMN.', \"GOVERNOR'S CRIME COMN.\", 'MILITARY AFFAIRS DEPT.', 'GEOGRAPHIC INFORMATION COUNCIL', 'AOC', 'RECORDS', 'ARBORETUM BOARD', 'CORPORATE INCOME', 'COMMERCE DEPT.', 'FUNDS & ACCOUNTS', 'MEDICAID OVERSIGHT COMM.', 'ALZHEIMERS', 'AGING', 'POLLUTION', 'PHARMACEUTICALS', 'VOUCHERS', 'REVENUE LAWS STUDY COMM.', 'SUPT. OF', 'UNC BOARD OF GOVERNORS', 'MILITARY BASES', 'CHARTER SCHOOLS', 'STATE AUDITOR', 'FISHERIES', 'SUPREME COURT', 'AIRCRAFT', 'GUARDIANSHIP', 'COURTS', 'ORGANIZED CRIME', 'ID SYSTEMS', 'ARCHAEOLOGY', 'RETAILING', 'ELECTIONS', 'BOXING ADVISORY COMN.', 'STUDIES', 'STATE CONTROLLER', 'STUDENTS', 'BEACH EROSION', 'UNEMPLOYMENT', 'PREGNANCY', 'NAME CHANGE', 'CAPITAL PLANNING COMN.', 'PRESENTED', 'FINANCIAL INSTITUTIONS', 'CATAWBA COUNTY', 'DISABLED PERSONS', 'TRANSPORTATION', 'ALTERNATIVE ENERGY', 'EDUCATIONAL TESTING', 'VETERANS AFFAIRS COMN.', 'CAPITAL PUNISHMENT', 'TRAVEL & TOURISM BOARD', 'DISCRIMINATION', 'CRIMINAL JUSTICE INFORMATION BD.', 'TAXES', 'SENTENCING', 'PERSONNEL', 'COMMISSIONS', 'FILM INDUSTRY', 'FISHERIES PRODUCTS', 'BIOTECHNOLOGY CENTER', 'JUDICIAL DEPT.', 'LOCAL GOVERNMENT COMN.', 'WATER RESOURCES', 'PITT COUNTY', 'INNOCENCE INQUIRY COMN.', 'INDIVIDUAL INCOME', 'HEALTH', 'TAXATION', 'HUMAN BLOOD & ORGANS', 'EDUCATION ASSISTANCE AUTHORITY', 'TRANSPORTATION BOARD', 'ENVIRONMENT', 'MOTOR VEHICLES', 'FINANCIAL SERVICES', 'LOTTERY COMN.', 'SPEAKER', 'WAKE COUNTY', 'CAPITAL SPENDING', 'RAILROADS', 'INDIGENT DEFENSE COMN.', 'BANKS', 'JUDGES', 'NURSING HOMES', 'BUNCOMBE COUNTY', 'FERRIES', 'YOUTH PROGRAMS', 'COST-OF-LIVING', 'WELFARE', 'SALES & CONVEYANCES', 'DURHAM COUNTY', 'DEBTOR & CREDITOR', 'STATE CRIME LAB', 'INFORMATION TECHNOLOGY OVERSIGHT COMM.', 'STORAGE SYSTEMS', 'PORTS', 'SALARIES & BENEFITS', 'RETIREMENT', 'CORRECTIONAL INSTITUTIONS', 'JUSTICE DEPT.', 'WORK FIRST', 'GOVERNOR', 'MORATORIUMS', 'HIGHWAY TRUST FUND', 'LAKES & RIVERS', 'INFORMATION TECHNOLOGY', 'HHS OVERSIGHT COMM.', 'HAZARDOUS SUBSTANCES', 'ADAP', 'ROANOKE ISLAND COMN.', 'CONTRACTS', 'PORTS AUTHORITY', 'RALEIGH', 'FOODS & BEVERAGES', 'VETERANS', 'CHAPTERED', 'HUMAN RELATIONS COMN.', 'MASS TRANSIT', 'GANGS', 'TEACHING SCHOLARSHIP COMN.', 'DISTANCE EDUCATION', 'HUMAN RESOURCES OFFICE', 'AGRICULTURAL FINANCE AUTHORITY', 'CRIMINAL RECORDS', 'DISTRICT COURT', 'DEATH & DYING', 'OCCUPATIONS', 'LOBBYING', 'HIGHER EDUCATION', 'STATE BOARD OF', 'ORGAN DONATIONS', 'TELESERVICES', 'ATTORNEYS', 'FOR-PROFIT', 'COOPERATIVE HIGH SCHOOL STUDY COMM.', 'TAX COLLECTION', 'CURRICULUM', 'CULTURAL RESOURCES', 'PUBLIC RECORDS', 'RESCUE SQUADS', 'TEXTBOOKS', 'WASTE MANAGEMENT', 'EDUCATION', 'HISTORIC PRESERVATION', 'MUSEUM OF ART BOARD', 'DHHS', 'PHARMACISTS', 'LITTERING', 'HALIFAX COUNTY', 'HEALTH INFORMATION EXCHANGE AUTHORITY', 'NONPROFIT', 'ARMED FORCES', 'COMMUNITY COLLEGES OFFICE', 'LICENSES & PERMITS', 'LIABILITY', 'MINORITIES', 'JURIES', 'ZOOS', 'INSPECTIONS', 'PUBLIC INSTRUCTION', 'HIGHWAY PATROL', 'AQUACULTURE', 'COMMISSIONER OF BANKS', 'TEACHER RETENTION COMN.', 'CHILD ABUSE', 'PRESIDENT PRO TEMPORE', 'EXHIBITIONS', 'DUPLIN COUNTY', 'FOOD', 'WATER & SEWER SYSTEMS', 'NEGOTIABLE INSTRUMENTS', 'GOVERNMENTAL OPERATIONS COMN.', 'KINDERGARTEN', 'BOATS & WATERCRAFT', 'FRANCHISE', 'MILITARY AFFAIRS COMN.', 'BATTLESHIP COMN.', 'WORKERS COMPENSATION', 'EARLY CHILDHOOD EDUCATION', 'SPAYING & NEUTERING', 'COURT REPORTERS', 'HIGHWAY FUND', 'VENDING MACHINES', 'DISTRICT ATTORNEYS', 'ENVIRONMENTAL MANAGEMENT COMN.', 'VACCINES', 'PARTNERSHIP FOR CHILDREN', 'PRODUCE', 'PURCHASING', 'INDUSTRIAL COMN.', 'LOCAL GOVERNMENT', 'AGRICULTURAL INSPECTION', 'ADMINISTRATIVE CODE', 'SUPERIOR COURT', 'DEQ', 'LAW ENFORCEMENT OFFICERS', 'FUELS', 'BANKING COMN.', 'HEALTH CHOICE', 'COMPACTS', 'ELECTRONIC SIGNATURES', 'PUBLIC TRANSPORTATION', 'BUILDINGS', 'SESSION LAWS', 'INSURANCE DEPT.', 'DEBT/STATE GOVERNMENT'}\n",
      "\n",
      "\n",
      "topic 5:\n",
      "{'COURT COSTS & FEES', 'BUDGETING', 'ATTORNEYS', 'CRIMINAL PROCEDURE', 'INFORMATION TECHNOLOGY', 'INTERNET', 'LICENSES & PERMITS', 'EVIDENCE', 'DMV', 'MOTOR VEHICLES', 'BIOTECHNOLOGY', 'WEAPONS', 'AOC', 'PRESENTED', 'RECORDS', 'SURETY & FIDELITY', 'DEVELOPMENTAL DISABILITIES', 'DATA SYSTEMS', 'FEES', 'POVERTY', 'DWI', 'FUNDS & ACCOUNTS', 'RATIFIED', 'DNA', 'TITLE CHANGE', 'INDIGENTS', 'JUDGES', 'CHAPTERED', 'APPROPRIATIONS', 'BOATING', 'DRIVERS LICENSES', 'MINORS', 'FINES & PENALTIES', 'MAGISTRATES', 'SENTENCING', 'GANGS', 'SUPERIOR COURT', 'JUDICIAL DEPT.', 'COURTS', 'ORGANIZED CRIME', 'MONITORING & SURVEILLANCE SYSTEMS', 'ID SYSTEMS', 'REPORTING', 'BOATS & WATERCRAFT', 'RECREATION & LEISURE', 'MENTAL HEALTH', 'SEX OFFENSES', 'INSTITUTIONALIZED PERSONS', 'CRIMINAL RECORDS', 'PUBLIC', 'PUBLIC DEFENDERS', 'FORENSIC SCIENCES', 'COURT CLERKS', 'DISTRICT COURT', 'FAMILY  ISSUES', 'ELECTRONIC GOVERNMENT', 'BAIL', 'JUSTICE DEPT.', 'GENETICS', 'CRIMES', 'TRAFFIC OFFENSES'}\n",
      "\n",
      "\n",
      "topic 6:\n",
      "{'MEDICAL BENEFITS OVERSIGHT COMM.', 'SOCIAL SERVICES DEPTS.', 'MEDICAID', 'BUDGETING', 'DIVORCE', 'STATE HEALTH PLAN', 'HHS OVERSIGHT COMM.', 'APPOINTMENTS', 'INSURANCE', 'SPEAKER', 'CHILD CUSTODY', 'PRESENTED', 'PUBLIC OFFICIALS', 'AUTHORITIES', 'SOCIAL SERVICES', 'POVERTY', 'FUNDS & ACCOUNTS', 'CONTRACTS', 'CHILD SUPPORT', 'RATIFIED', 'PRESIDENT PRO TEMPORE', 'STATE EMPLOYEES', 'PURCHASING', 'REPORTS', 'COUNCIL OF STATE', 'LOCAL GOVERNMENT', 'MEMBERSHIP', 'CHAPTERED', 'APPROPRIATIONS', 'MINORS', 'DHHS', 'HEALTH BENEFITS AUTHORITY OVERSIGHT COMM.', 'WELFARE', 'HEALTH CHOICE', 'BOARDS', 'HEALTH SERVICES', 'TEACHERS', 'MENTAL HEALTH', 'PUBLIC', 'GENERAL ASSEMBLY', 'LMES', 'COMMITTEES', 'STUDIES', 'HEALTH', 'SALARIES & BENEFITS', 'COUNTIES', 'HEALTH BENEFITS AUTHORITY BOARD', 'GOVERNOR', 'DAY CARE'}\n",
      "\n",
      "\n",
      "topic 7:\n",
      "{'BUDGETING', 'WOMEN', 'PUBLIC OFFICIALS', 'FUNDS & ACCOUNTS', 'STATE EMPLOYEES', 'LABOR DEPT.', 'JUDGES', 'COUNCIL OF STATE', 'EMPLOYMENT', 'DISCRIMINATION', 'APPROPRIATIONS', 'LABOR COMMISSIONER', 'MAGISTRATES', 'PERSONNEL', 'COST-OF-LIVING', 'LRS', 'COMMERCE', 'MINIMUM WAGE', 'TEACHERS', 'CJRS', 'PUBLIC', 'GENERAL ASSEMBLY', 'FAMILY  ISSUES', 'TSERS', 'SALARIES & BENEFITS', 'RETIREMENT'}\n",
      "\n",
      "\n",
      "topic 8:\n",
      "{'RESOLUTIONS', 'GENERAL ASSEMBLY', 'HOUSE & SENATE', 'RATIFIED', 'COMMITTEES', 'ADJOURNMENT', 'SIMPLE', 'RULES', 'ADOPTED', 'CHAPTERED', 'JOINT'}\n",
      "\n",
      "\n",
      "topic 9:\n",
      "{'BUDGETING', 'INTERNET', 'INFORMATION TECHNOLOGY', 'ACCOUNTING', 'PRINCIPALS', 'NUTRITION', 'APPOINTMENTS', 'ELEMENTARY EDUCATION', 'SECONDARY EDUCATION', 'CURRICULUM', 'HEALTHY YOUTH & SCHOOLS COMN.', 'PRIVATE SCHOOLS', 'SPEAKER', 'EDUCATION BOARDS', 'RECORDS', 'PUBLIC OFFICIALS', 'PUBLIC RECORDS', 'CONTRACTS', 'SCHOOL PERFORMANCE IMPROVEMENT TASK FORCE', 'EDUCATION ADMINISTRATION', 'AUDITING & AUDITS', 'PRESIDENT PRO TEMPORE', 'REPORTS', 'FOODS & BEVERAGES', 'COUNCIL OF STATE', 'LOCAL GOVERNMENT', 'EDUCATION', 'MEMBERSHIP', 'APPROPRIATIONS', 'MINORS', 'CHARTER SCHOOLS', 'COMMISSIONS', 'DHHS', 'KINDERGARTEN', 'DISTANCE EDUCATION', 'CHARTER SCHOOLS ADVISORY BOARD', 'BOARDS', 'PILOT PROGRAMS', 'REPORTING', 'SPORTS', 'HOME SCHOOLING', 'TASK FORCES', 'PUBLIC', 'GENERAL ASSEMBLY', 'HEALTH EDUCATION', 'ELECTRONIC GOVERNMENT', 'STUDENTS', 'STUDIES', 'PUBLIC HEALTH', 'GOVERNOR', 'STATE BOARD OF', 'PUBLIC INSTRUCTION DEPT.'}\n",
      "\n",
      "\n",
      "topic 10:\n",
      "{'ANIMALS', 'INTERNET', 'INFORMATION TECHNOLOGY', 'MOTOR VEHICLES', 'LICENSES & PERMITS', 'DMV', 'POLITICAL PARTIES', 'TRANSPORTATION DEPT.', 'COUNTY COMMISSIONERS', 'PRESENTED', 'RECORDS', 'INTEREST', 'FEES', 'CONTRACTS', 'TRANSPORTATION', 'RATIFIED', 'REVENUE DEPT.', 'LICENSE PLATES', 'TITLE CHANGE', 'WARRANTIES', 'VETERANS', 'LAW ENFORCEMENT', 'LOCAL GOVERNMENT', 'CHAPTERED', 'FINES & PENALTIES', 'PROPERTY', 'EMERGENCY SERVICES', 'MOTOR VEHICLE', 'NAMED LAWS', 'TAXES', 'PERSONNEL', 'TOWING', 'REAL ESTATE', 'CONSUMER PROTECTION', 'COMMERCE', 'SALES & CONVEYANCES', 'AUTOMOTIVE SERVICE & REPAIR', 'SPORTS', 'MOTOR FLEET', 'PUBLIC', 'RETAILING', 'STORAGE SYSTEMS', 'ELECTRONIC GOVERNMENT', 'NOTIFICATION', 'TAXATION', 'COUNTIES', 'LAW ENFORCEMENT SERVICE ANIMALS', 'ARMED FORCES'}\n",
      "\n",
      "\n",
      "topic 11:\n",
      "{'APPOINTMENTS', 'ELEMENTARY EDUCATION', 'POLITICAL PARTIES', 'SECONDARY EDUCATION', 'SPEAKER', 'ELECTIONS BOARDS', 'VOTER REGISTRATION', 'EDUCATION BOARDS', 'LOCAL', 'PRESENTED', 'PUBLIC OFFICIALS', 'RECORDS', 'POLITICAL ACTIVITY', 'PUBLIC RECORDS', 'PRIVACY', 'RATIFIED', 'PRESIDENT PRO TEMPORE', 'INDUSTRIAL COMN.', 'POLLUTION', 'COURT OF APPEALS', 'JUDGES', 'CALENDAR', 'LOCAL GOVERNMENT', 'CONFIDENTIALITY', 'COUNCIL OF STATE', 'EDUCATION', 'MEMBERSHIP', 'CHAPTERED', 'STANLY COUNTY', 'SUPERIOR COURT', 'COMMISSIONS', 'SUPREME COURT', 'COMMERCE', 'KINDERGARTEN', 'RECALL', 'REFERENDUMS & INITIATIVES', 'COURTS', 'BOARDS', 'PRIMARIES', 'ETHICS', 'LITTERING', 'MUNICIPALITIES', 'PUBLIC', 'GENERAL ASSEMBLY', 'DISTRICT COURT', 'ELECTIONS', 'SECRETARY OF STATE', 'ETHICS COMN.', 'REDISTRICTING', 'LOBBYING', 'COUNTIES', 'GOVERNOR', 'STATE BOARD OF', 'TERM LENGTHS & LIMITS'}\n",
      "\n",
      "\n",
      "topic 12:\n",
      "{'ANSON COUNTY', 'MAXTON', 'MITCHELL COUNTY', 'ENVIRONMENT', 'CITY MANAGERS', 'SILER CITY', 'PLANNING & ZONING', 'CARY', 'ANNEXATION', 'CITY COUNCILS', 'APPOINTMENTS', 'WEAPONS', 'WAKE COUNTY', 'LOCAL', 'PUBLIC OFFICIALS', 'HAYWOOD COUNTY', 'INFRASTRUCTURE', 'RATIFIED', 'FISH & WILDLIFE', 'LOCAL GOVERNMENT', 'CHAPTERED', 'PROPERTY', 'WATER & SEWER SYSTEMS', 'CHARTERS', 'COMMISSIONS', 'REAL ESTATE', 'SALES & CONVEYANCES', 'BAKERSVILLE', 'ROBESON COUNTY', 'RECREATION & LEISURE', 'CLYDE', 'MUNICIPALITIES', 'SESSION LAWS', 'NORTHAMPTON COUNTY', 'WILDLIFE RESOURCES COMN.', 'COUNTIES', 'UTILITIES', 'CHADBOURN', 'COLUMBUS COUNTY', 'POLKTON'}\n",
      "\n",
      "\n",
      "topic 13:\n",
      "{'RESOLUTIONS', 'CONSTITUTION', 'GENERAL ASSEMBLY', 'PUBLIC', 'MEMORIALIZING RESOLUTIONS', 'ELECTIONS', 'FOR-PROFIT', 'WOMEN', 'CAMPAIGN FINANCE', 'US', 'NC', 'COMMERCE', 'CORPORATIONS', 'DISCRIMINATION', 'JOINT'}\n",
      "\n",
      "\n",
      "topic 14:\n",
      "{'COMMUNITY COLLEGE BOARDS', 'UNC BOARD OF GOVERNORS', 'CHEROKEE', 'APPOINTMENTS', 'HARNETT COUNTY', 'SECONDARY EDUCATION', 'PUBLIC INSTRUCTION', 'SPEAKER', 'LOCAL', 'CHARLOTTE', 'COUNCILS', 'PUBLIC OFFICIALS', 'CULTURAL RESOURCES', 'PRESENTED', 'COUNTY COMMISSIONERS', 'EDUCATION BOARDS', 'LEE COUNTY', 'SOCIAL SERVICES', 'RATIFIED', 'PRESIDENT PRO TEMPORE', 'STATE EMPLOYEES', 'SWAIN COUNTY', 'COUNCIL OF STATE', 'CONFIRMATION', 'EMPLOYMENT', 'LOCAL GOVERNMENT', 'EDUCATION', 'MEMBERSHIP', 'CHAPTERED', 'EDUCATION CABINET', 'VOCATIONAL REHABILITATION', 'SUPT. OF', 'CHARTERS', 'MECKLENBURG COUNTY', 'MUSEUMS', 'MUSEUM OF ART BOARD', 'SCIENCE & TECHNOLOGY', 'MANAGEMENT', 'CHARTER SCHOOLS', 'NATURAL & CULTURAL RESOURCES DEPT.', 'UNC', 'PERSONNEL', 'GOVERNMENT EMPLOYEES', 'DHHS', 'CHARTER SCHOOLS ADVISORY BOARD', 'BOARDS', 'HEALTH SERVICES', 'CHATHAM COUNTY', 'COMMUNITY COLLEGES', 'RUTHERFORD COUNTY', 'MENTAL HEALTH', 'CIVIL SERVICE BOARDS', 'POLK COUNTY', 'PUBLIC', 'MUNICIPALITIES', 'COLLEGES & UNIVERSITIES', 'GENERAL ASSEMBLY', 'SCIENCE/MATH SCHOOL BOARD', 'LMES', 'STUDENTS', 'SESSION LAWS', 'ARTS', 'COUNTIES', 'HIGHER EDUCATION', 'VOCATIONAL REHAB COUNCIL', 'GOVERNOR', 'STATE BOARD OF', 'TERM LENGTHS & LIMITS', 'PUBLIC INSTRUCTION DEPT.'}\n"
     ]
    }
   ],
   "source": [
    "for topic_idx in range(n_topics):\n",
    "    k = \"topic \" + str(topic_idx)\n",
    "    print(\"\\n\")\n",
    "    print(k + \":\")\n",
    "    print(top_keywords[k])"
   ]
  },
  {
   "cell_type": "code",
   "execution_count": null,
   "metadata": {
    "collapsed": true
   },
   "outputs": [],
   "source": []
  }
 ],
 "metadata": {
  "anaconda-cloud": {},
  "kernelspec": {
   "display_name": "ncga (P3)",
   "language": "python",
   "name": "ncga (p3)"
  },
  "language_info": {
   "codemirror_mode": {
    "name": "ipython",
    "version": 3
   },
   "file_extension": ".py",
   "mimetype": "text/x-python",
   "name": "python",
   "nbconvert_exporter": "python",
   "pygments_lexer": "ipython3",
   "version": "3.5.2"
  }
 },
 "nbformat": 4,
 "nbformat_minor": 2
}
