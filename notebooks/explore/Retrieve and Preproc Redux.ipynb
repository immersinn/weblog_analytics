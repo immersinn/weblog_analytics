{
 "cells": [
  {
   "cell_type": "markdown",
   "metadata": {},
   "source": [
    "## Articles are in MongoDB; THIS is what we want!!"
   ]
  },
  {
   "cell_type": "code",
   "execution_count": 1,
   "metadata": {
    "collapsed": true
   },
   "outputs": [],
   "source": [
    "import sys"
   ]
  },
  {
   "cell_type": "code",
   "execution_count": 2,
   "metadata": {
    "collapsed": true
   },
   "outputs": [],
   "source": [
    "sys.path.append('/home/immersinn/gits/weblog_analytics/src')"
   ]
  },
  {
   "cell_type": "code",
   "execution_count": 3,
   "metadata": {
    "collapsed": true
   },
   "outputs": [],
   "source": [
    "import utils"
   ]
  },
  {
   "cell_type": "code",
   "execution_count": 27,
   "metadata": {
    "collapsed": true
   },
   "outputs": [],
   "source": [
    "articles = utils.retrieve_article_htmls(coll_name='PhysOrg', limit=0)"
   ]
  },
  {
   "cell_type": "code",
   "execution_count": 28,
   "metadata": {
    "collapsed": false
   },
   "outputs": [
    {
     "data": {
      "text/html": [
       "<div>\n",
       "<table border=\"1\" class=\"dataframe\">\n",
       "  <thead>\n",
       "    <tr style=\"text-align: right;\">\n",
       "      <th></th>\n",
       "      <th>LastUpdate</th>\n",
       "      <th>_id</th>\n",
       "      <th>html</th>\n",
       "      <th>url</th>\n",
       "    </tr>\n",
       "  </thead>\n",
       "  <tbody>\n",
       "    <tr>\n",
       "      <th>0</th>\n",
       "      <td>2016-11-16 00:23:26</td>\n",
       "      <td>582ba6fe50c3c9212d7ad994</td>\n",
       "      <td>b'&lt;!DOCTYPE html&gt;\\n&lt;html&gt;\\n  &lt;head&gt;\\n\\t&lt;meta c...</td>\n",
       "      <td>http://phys.org/news/2016-11-pre-mammalian-anc...</td>\n",
       "    </tr>\n",
       "    <tr>\n",
       "      <th>1</th>\n",
       "      <td>2016-11-16 00:23:28</td>\n",
       "      <td>582ba70050c3c9212d7ad995</td>\n",
       "      <td>b'&lt;!DOCTYPE html&gt;\\n&lt;html&gt;\\n  &lt;head&gt;\\n\\t&lt;meta c...</td>\n",
       "      <td>http://phys.org/news/2016-10-ancient-burials-b...</td>\n",
       "    </tr>\n",
       "    <tr>\n",
       "      <th>2</th>\n",
       "      <td>2016-11-16 00:23:29</td>\n",
       "      <td>582ba70150c3c9212d7ad996</td>\n",
       "      <td>b'&lt;!DOCTYPE html&gt;\\n&lt;html&gt;\\n  &lt;head&gt;\\n\\t&lt;meta c...</td>\n",
       "      <td>http://phys.org/news/2016-10-fossilized-dinosa...</td>\n",
       "    </tr>\n",
       "    <tr>\n",
       "      <th>3</th>\n",
       "      <td>2016-11-16 00:23:30</td>\n",
       "      <td>582ba70250c3c9212d7ad997</td>\n",
       "      <td>b'&lt;!DOCTYPE html&gt;\\n&lt;html&gt;\\n  &lt;head&gt;\\n\\t&lt;meta c...</td>\n",
       "      <td>http://phys.org/news/2016-11-mathematics-coffe...</td>\n",
       "    </tr>\n",
       "    <tr>\n",
       "      <th>4</th>\n",
       "      <td>2016-11-16 00:23:31</td>\n",
       "      <td>582ba70350c3c9212d7ad998</td>\n",
       "      <td>b'&lt;!DOCTYPE html&gt;\\n&lt;html&gt;\\n  &lt;head&gt;\\n\\t&lt;meta c...</td>\n",
       "      <td>http://phys.org/news/2016-11-image-solar-cells...</td>\n",
       "    </tr>\n",
       "  </tbody>\n",
       "</table>\n",
       "</div>"
      ],
      "text/plain": [
       "            LastUpdate                       _id  \\\n",
       "0  2016-11-16 00:23:26  582ba6fe50c3c9212d7ad994   \n",
       "1  2016-11-16 00:23:28  582ba70050c3c9212d7ad995   \n",
       "2  2016-11-16 00:23:29  582ba70150c3c9212d7ad996   \n",
       "3  2016-11-16 00:23:30  582ba70250c3c9212d7ad997   \n",
       "4  2016-11-16 00:23:31  582ba70350c3c9212d7ad998   \n",
       "\n",
       "                                                html  \\\n",
       "0  b'<!DOCTYPE html>\\n<html>\\n  <head>\\n\\t<meta c...   \n",
       "1  b'<!DOCTYPE html>\\n<html>\\n  <head>\\n\\t<meta c...   \n",
       "2  b'<!DOCTYPE html>\\n<html>\\n  <head>\\n\\t<meta c...   \n",
       "3  b'<!DOCTYPE html>\\n<html>\\n  <head>\\n\\t<meta c...   \n",
       "4  b'<!DOCTYPE html>\\n<html>\\n  <head>\\n\\t<meta c...   \n",
       "\n",
       "                                                 url  \n",
       "0  http://phys.org/news/2016-11-pre-mammalian-anc...  \n",
       "1  http://phys.org/news/2016-10-ancient-burials-b...  \n",
       "2  http://phys.org/news/2016-10-fossilized-dinosa...  \n",
       "3  http://phys.org/news/2016-11-mathematics-coffe...  \n",
       "4  http://phys.org/news/2016-11-image-solar-cells...  "
      ]
     },
     "execution_count": 28,
     "metadata": {},
     "output_type": "execute_result"
    }
   ],
   "source": [
    "articles.head()"
   ]
  },
  {
   "cell_type": "markdown",
   "metadata": {},
   "source": [
    "## Extract Relevant Content"
   ]
  },
  {
   "cell_type": "code",
   "execution_count": 6,
   "metadata": {
    "collapsed": true
   },
   "outputs": [],
   "source": [
    "from bs4 import BeautifulSoup as bs"
   ]
  },
  {
   "cell_type": "code",
   "execution_count": 7,
   "metadata": {
    "collapsed": true
   },
   "outputs": [],
   "source": [
    "import article_handles"
   ]
  },
  {
   "cell_type": "code",
   "execution_count": 8,
   "metadata": {
    "collapsed": false
   },
   "outputs": [],
   "source": [
    "proc_articles = [article_handles.articleObjectPhysOrg(url, bs(html, 'html.parser')) \\\n",
    "                 for url, html in zip(list(articles.url), list(articles.html))]"
   ]
  },
  {
   "cell_type": "code",
   "execution_count": 9,
   "metadata": {
    "collapsed": false
   },
   "outputs": [],
   "source": [
    "for pa in proc_articles:\n",
    "    pa.processArticle()"
   ]
  },
  {
   "cell_type": "code",
   "execution_count": 10,
   "metadata": {
    "collapsed": false
   },
   "outputs": [],
   "source": [
    "pa = proc_articles[5]"
   ]
  },
  {
   "cell_type": "code",
   "execution_count": 11,
   "metadata": {
    "collapsed": false
   },
   "outputs": [
    {
     "data": {
      "text/plain": [
       "{'categories': ('Home', 'Other Sciences', 'Archaeology & Fossils'),\n",
       " 'source': 'PhysOrg',\n",
       " 'title': None,\n",
       " 'url': 'http://phys.org/news/2016-11-biggest-dinosaur-tree-emerged-million.html'}"
      ]
     },
     "execution_count": 11,
     "metadata": {},
     "output_type": "execute_result"
    }
   ],
   "source": [
    "pa.meta"
   ]
  },
  {
   "cell_type": "code",
   "execution_count": 12,
   "metadata": {
    "collapsed": false
   },
   "outputs": [
    {
     "data": {
      "text/plain": [
       "2067"
      ]
     },
     "execution_count": 12,
     "metadata": {},
     "output_type": "execute_result"
    }
   ],
   "source": [
    "len(pa.contents)"
   ]
  },
  {
   "cell_type": "code",
   "execution_count": 13,
   "metadata": {
    "collapsed": false
   },
   "outputs": [
    {
     "data": {
      "text/plain": [
       "'(Phys.org)—A team of researchers from the U.K. and the U.S. has mapped the biggest dinosaur tree yet, and in so doing, has found that the creatures may have evolved 20 million years earlier than most '"
      ]
     },
     "execution_count": 13,
     "metadata": {},
     "output_type": "execute_result"
    }
   ],
   "source": [
    "pa.contents[:200]"
   ]
  },
  {
   "cell_type": "code",
   "execution_count": 14,
   "metadata": {
    "collapsed": false
   },
   "outputs": [
    {
     "data": {
      "text/plain": [
       "'http://phys.org/news/2016-11-biggest-dinosaur-tree-emerged-million.html'"
      ]
     },
     "execution_count": 14,
     "metadata": {},
     "output_type": "execute_result"
    }
   ],
   "source": [
    "pa.url"
   ]
  },
  {
   "cell_type": "markdown",
   "metadata": {},
   "source": [
    "## spaCy, textacy Stuffs"
   ]
  },
  {
   "cell_type": "code",
   "execution_count": 15,
   "metadata": {
    "collapsed": true
   },
   "outputs": [],
   "source": [
    "import spacy\n",
    "import textacy"
   ]
  },
  {
   "cell_type": "code",
   "execution_count": 16,
   "metadata": {
    "collapsed": true
   },
   "outputs": [],
   "source": [
    "textacy_preprocessor = lambda text: textacy.preprocess.preprocess_text(text,\n",
    "                                                                       no_contractions=True,\n",
    "                                                                       no_numbers=True,\n",
    "                                                                       no_emails=True,\n",
    "                                                                       no_currency_symbols=True,\n",
    "                                                                       lowercase=True)"
   ]
  },
  {
   "cell_type": "code",
   "execution_count": 17,
   "metadata": {
    "collapsed": true
   },
   "outputs": [],
   "source": [
    "nlp = spacy.load(\"en\", add_vectors=False)"
   ]
  },
  {
   "cell_type": "code",
   "execution_count": 18,
   "metadata": {
    "collapsed": true
   },
   "outputs": [],
   "source": [
    "nlp.pipeline = [nlp.tagger, nlp.parser]"
   ]
  },
  {
   "cell_type": "code",
   "execution_count": 19,
   "metadata": {
    "collapsed": true
   },
   "outputs": [],
   "source": [
    "texts = [textacy_preprocessor(pa.contents) for pa in proc_articles]"
   ]
  },
  {
   "cell_type": "code",
   "execution_count": 20,
   "metadata": {
    "collapsed": true
   },
   "outputs": [],
   "source": [
    "metas = [{'title':pa.title, 'url':pa.url} for pa in proc_articles]"
   ]
  },
  {
   "cell_type": "code",
   "execution_count": 21,
   "metadata": {
    "collapsed": true
   },
   "outputs": [],
   "source": [
    "corpus = textacy.Corpus(lang=nlp)"
   ]
  },
  {
   "cell_type": "code",
   "execution_count": 22,
   "metadata": {
    "collapsed": true
   },
   "outputs": [],
   "source": [
    "corpus.add_texts(texts=texts, metadatas=metas, n_threads=8, batch_size=50)"
   ]
  },
  {
   "cell_type": "code",
   "execution_count": 23,
   "metadata": {
    "collapsed": false
   },
   "outputs": [
    {
     "data": {
      "text/plain": [
       "20"
      ]
     },
     "execution_count": 23,
     "metadata": {},
     "output_type": "execute_result"
    }
   ],
   "source": [
    "corpus.n_docs"
   ]
  },
  {
   "cell_type": "code",
   "execution_count": 24,
   "metadata": {
    "collapsed": false
   },
   "outputs": [
    {
     "data": {
      "text/plain": [
       "593"
      ]
     },
     "execution_count": 24,
     "metadata": {},
     "output_type": "execute_result"
    }
   ],
   "source": [
    "corpus.n_sents"
   ]
  },
  {
   "cell_type": "code",
   "execution_count": 25,
   "metadata": {
    "collapsed": true
   },
   "outputs": [],
   "source": [
    "corpus.save(path='/home/immersinn/gits/weblog_analytics/data/processed/',\n",
    "            name='CORPUS_physorg_articles_test', compression='gzip')"
   ]
  },
  {
   "cell_type": "code",
   "execution_count": 26,
   "metadata": {
    "collapsed": true
   },
   "outputs": [],
   "source": [
    "corpus = textacy.Corpus.load(path='/home/immersinn/gits/weblog_analytics/data/processed/',\n",
    "                             name='CORPUS_physorg_articles_test',\n",
    "                             compression='gzip')"
   ]
  },
  {
   "cell_type": "code",
   "execution_count": null,
   "metadata": {
    "collapsed": true
   },
   "outputs": [],
   "source": []
  }
 ],
 "metadata": {
  "kernelspec": {
   "display_name": "Python 3",
   "language": "python",
   "name": "python3"
  },
  "language_info": {
   "codemirror_mode": {
    "name": "ipython",
    "version": 3
   },
   "file_extension": ".py",
   "mimetype": "text/x-python",
   "name": "python",
   "nbconvert_exporter": "python",
   "pygments_lexer": "ipython3",
   "version": "3.5.2"
  }
 },
 "nbformat": 4,
 "nbformat_minor": 2
}
